{
 "cells": [
  {
   "cell_type": "code",
   "execution_count": 1,
   "id": "44d56121",
   "metadata": {},
   "outputs": [],
   "source": [
    "from example import simple_model_1, simple_model_2"
   ]
  },
  {
   "cell_type": "code",
   "execution_count": 2,
   "id": "0e4e400b",
   "metadata": {},
   "outputs": [
    {
     "data": {
      "text/html": [
       "<strong>Model Summary:</strong><br>Years: 2024 - 2028 (5 years)<br>Line Items: 3<br>Categories: 3<br>Generators: 0<br>Constraints: 0<br>"
      ],
      "text/plain": [
       "<pyproforma.models.model.model.Model at 0x10d3f8740>"
      ]
     },
     "execution_count": 2,
     "metadata": {},
     "output_type": "execute_result"
    }
   ],
   "source": [
    "simple_model_1"
   ]
  }
 ],
 "metadata": {
  "kernelspec": {
   "display_name": ".venv",
   "language": "python",
   "name": "python3"
  },
  "language_info": {
   "codemirror_mode": {
    "name": "ipython",
    "version": 3
   },
   "file_extension": ".py",
   "mimetype": "text/x-python",
   "name": "python",
   "nbconvert_exporter": "python",
   "pygments_lexer": "ipython3",
   "version": "3.12.6"
  }
 },
 "nbformat": 4,
 "nbformat_minor": 5
}
