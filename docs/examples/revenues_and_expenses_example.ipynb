{
 "cells": [
  {
   "cell_type": "markdown",
   "metadata": {},
   "source": [
    "# PyProforma: Revenues and Expenses Financial Model Example\n",
    "\n",
    "This notebook demonstrates how to use the `pyproforma` library to build a comprehensive financial model with multiple revenue streams and expense categories. We'll create line items, organize them into categories, and generate summary tables and visualizations.\n",
    "\n",
    "## Overview\n",
    "\n",
    "We'll build a 3-year financial model (2024-2026) that includes:\n",
    "- **Multiple Revenue Streams**: Product sales, service revenue, licensing fees\n",
    "- **Multiple Expense Categories**: Cost of goods sold, operating expenses, marketing\n",
    "- **Automatic Calculations**: Formulas linking expenses to revenues\n",
    "- **Summary Tables**: Professional financial statement formatting\n",
    "- **Interactive Charts**: Visual representation of financial data"
   ]
  },
  {
   "cell_type": "markdown",
   "metadata": {},
   "source": [
    "## 1. Import Required Libraries\n",
    "\n",
    "First, let's import the necessary components from pyproforma and other supporting libraries."
   ]
  },
  {
   "cell_type": "code",
   "execution_count": null,
   "metadata": {},
   "outputs": [],
   "source": [
    "# Core pyproforma imports\n",
    "from pyproforma import Model, LineItem, Category\n",
    "\n",
    "# Additional imports for data manipulation and display\n",
    "import pandas as pd\n",
    "import plotly.graph_objects as go\n",
    "from IPython.display import display, HTML\n",
    "\n",
    "print(\"\u2705 Libraries imported successfully\")"
   ]
  },
  {
   "cell_type": "markdown",
   "metadata": {},
   "source": [
    "## 2. Define Model Parameters\n",
    "\n",
    "Let's set up the basic parameters for our financial model."
   ]
  },
  {
   "cell_type": "code",
   "execution_count": null,
   "metadata": {},
   "outputs": [],
   "source": [
    "# Define the years for our model\n",
    "MODEL_YEARS = [2024, 2025, 2026]\n",
    "\n",
    "print(f\"\ud83d\udcc5 Model will cover years: {MODEL_YEARS}\")\n",
    "print(f\"\ud83d\udcca Total planning horizon: {len(MODEL_YEARS)} years\")"
   ]
  },
  {
   "cell_type": "markdown",
   "metadata": {},
   "source": [
    "## 3. Create Revenue Line Items\n",
    "\n",
    "We'll create multiple revenue streams with different growth patterns and calculation methods."
   ]
  },
  {
   "cell_type": "code",
   "execution_count": null,
   "metadata": {},
   "outputs": [],
   "source": [
    "# Product Sales Revenue - Base values with 15% annual growth\n",
    "product_sales = LineItem(\n",
    "    name=\"product_sales\",\n",
    "    label=\"Product Sales\",\n",
    "    category=\"revenue\",\n",
    "    values={2024: 1_500_000},  # Starting value\n",
    "    formula=\"product_sales[-1] * 1.15\",  # 15% year-over-year growth\n",
    "    value_format=\"no_decimals\"\n",
    ")\n",
    "\n",
    "# Service Revenue - More conservative 10% growth\n",
    "service_revenue = LineItem(\n",
    "    name=\"service_revenue\",\n",
    "    label=\"Service Revenue\",\n",
    "    category=\"revenue\",\n",
    "    values={2024: 800_000},\n",
    "    formula=\"service_revenue[-1] * 1.10\",  # 10% year-over-year growth\n",
    "    value_format=\"no_decimals\"\n",
    ")\n",
    "\n",
    "# Licensing Fees - Percentage of product sales\n",
    "licensing_fees = LineItem(\n",
    "    name=\"licensing_fees\",\n",
    "    label=\"Licensing Fees\",\n",
    "    category=\"revenue\",\n",
    "    formula=\"product_sales * 0.05\",  # 5% of product sales\n",
    "    value_format=\"no_decimals\"\n",
    ")\n",
    "\n",
    "# Subscription Revenue - Growing subscriber base\n",
    "subscription_revenue = LineItem(\n",
    "    name=\"subscription_revenue\",\n",
    "    label=\"Subscription Revenue\",\n",
    "    category=\"revenue\",\n",
    "    values={2024: 300_000},\n",
    "    formula=\"subscription_revenue[-1] * 1.25\",  # 25% growth (aggressive)\n",
    "    value_format=\"no_decimals\"\n",
    ")\n",
    "\n",
    "revenue_items = [product_sales, service_revenue, licensing_fees, subscription_revenue]\n",
    "\n",
    "print(\"\u2705 Revenue line items created:\")\n",
    "for item in revenue_items:\n",
    "    print(f\"   \u2022 {item.label}\")"
   ]
  },
  {
   "cell_type": "markdown",
   "metadata": {},
   "source": [
    "## 4. Create Expense Line Items\n",
    "\n",
    "Now let's create various expense categories that scale with our revenue or have independent growth patterns."
   ]
  },
  {
   "cell_type": "code",
   "execution_count": null,
   "metadata": {},
   "outputs": [],
   "source": [
    "# Cost of Goods Sold - Percentage of product sales\n",
    "cost_of_goods_sold = LineItem(\n",
    "    name=\"cost_of_goods_sold\",\n",
    "    label=\"Cost of Goods Sold\",\n",
    "    category=\"expenses\",\n",
    "    formula=\"product_sales * 0.35\",  # 35% of product sales\n",
    "    value_format=\"no_decimals\"\n",
    ")\n",
    "\n",
    "# Service Delivery Costs - Percentage of service revenue\n",
    "service_costs = LineItem(\n",
    "    name=\"service_costs\",\n",
    "    label=\"Service Delivery Costs\",\n",
    "    category=\"expenses\",\n",
    "    formula=\"service_revenue * 0.45\",  # 45% of service revenue\n",
    "    value_format=\"no_decimals\"\n",
    ")\n",
    "\n",
    "# Sales & Marketing - Percentage of total revenue\n",
    "sales_marketing = LineItem(\n",
    "    name=\"sales_marketing\",\n",
    "    label=\"Sales & Marketing\",\n",
    "    category=\"expenses\",\n",
    "    values={2024: 400_000},\n",
    "    formula=\"sales_marketing[-1] * 1.12\",  # 12% annual growth\n",
    "    value_format=\"no_decimals\"\n",
    ")\n",
    "\n",
    "# Research & Development - Fixed budget with inflation\n",
    "research_development = LineItem(\n",
    "    name=\"research_development\",\n",
    "    label=\"Research & Development\",\n",
    "    category=\"expenses\",\n",
    "    values={2024: 350_000},\n",
    "    formula=\"research_development[-1] * 1.08\",  # 8% annual growth\n",
    "    value_format=\"no_decimals\"\n",
    ")\n",
    "\n",
    "# General & Administrative - Semi-fixed costs\n",
    "general_admin = LineItem(\n",
    "    name=\"general_admin\",\n",
    "    label=\"General & Administrative\",\n",
    "    category=\"expenses\",\n",
    "    values={2024: 250_000},\n",
    "    formula=\"general_admin[-1] * 1.06\",  # 6% annual growth\n",
    "    value_format=\"no_decimals\"\n",
    ")\n",
    "\n",
    "# Rent & Facilities - Fixed with annual increases\n",
    "rent_facilities = LineItem(\n",
    "    name=\"rent_facilities\",\n",
    "    label=\"Rent & Facilities\",\n",
    "    category=\"expenses\",\n",
    "    values={2024: 120_000},\n",
    "    formula=\"rent_facilities[-1] * 1.04\",  # 4% annual growth\n",
    "    value_format=\"no_decimals\"\n",
    ")\n",
    "\n",
    "expense_items = [cost_of_goods_sold, service_costs, sales_marketing, \n",
    "                research_development, general_admin, rent_facilities]\n",
    "\n",
    "print(\"\u2705 Expense line items created:\")\n",
    "for item in expense_items:\n",
    "    print(f\"   \u2022 {item.label}\")"
   ]
  },
  {
   "cell_type": "markdown",
   "metadata": {},
   "source": [
    "## 5. Create Calculated Line Items\n",
    "\n",
    "Let's add some calculated line items for financial analysis."
   ]
  },
  {
   "cell_type": "code",
   "execution_count": null,
   "metadata": {},
   "outputs": [],
   "source": [
    "# Gross Profit - Revenue minus direct costs\n",
    "gross_profit = LineItem(\n",
    "    name=\"gross_profit\",\n",
    "    label=\"Gross Profit\",\n",
    "    category=\"calculated\",\n",
    "    formula=\"(product_sales + service_revenue + licensing_fees + subscription_revenue) - (cost_of_goods_sold + service_costs)\",\n",
    "    value_format=\"no_decimals\"\n",
    ")\n",
    "\n",
    "# Operating Expenses - Total of operating expense categories\n",
    "operating_expenses = LineItem(\n",
    "    name=\"operating_expenses\",\n",
    "    label=\"Total Operating Expenses\",\n",
    "    category=\"calculated\",\n",
    "    formula=\"sales_marketing + research_development + general_admin + rent_facilities\",\n",
    "    value_format=\"no_decimals\"\n",
    ")\n",
    "\n",
    "# EBITDA - Earnings before interest, taxes, depreciation, amortization\n",
    "ebitda = LineItem(\n",
    "    name=\"ebitda\",\n",
    "    label=\"EBITDA\",\n",
    "    category=\"calculated\",\n",
    "    formula=\"gross_profit - operating_expenses\",\n",
    "    value_format=\"no_decimals\"\n",
    ")\n",
    "\n",
    "# Gross Margin - Gross profit as percentage of revenue\n",
    "gross_margin = LineItem(\n",
    "    name=\"gross_margin\",\n",
    "    label=\"Gross Margin %\",\n",
    "    category=\"ratios\",\n",
    "    formula=\"gross_profit / (product_sales + service_revenue + licensing_fees + subscription_revenue)\",\n",
    "    value_format=\"percent_one_decimal\"\n",
    ")\n",
    "\n",
    "# EBITDA Margin - EBITDA as percentage of revenue\n",
    "ebitda_margin = LineItem(\n",
    "    name=\"ebitda_margin\",\n",
    "    label=\"EBITDA Margin %\",\n",
    "    category=\"ratios\",\n",
    "    formula=\"ebitda / (product_sales + service_revenue + licensing_fees + subscription_revenue)\",\n",
    "    value_format=\"percent_one_decimal\"\n",
    ")\n",
    "\n",
    "calculated_items = [gross_profit, operating_expenses, ebitda, gross_margin, ebitda_margin]\n",
    "\n",
    "print(\"\u2705 Calculated line items created:\")\n",
    "for item in calculated_items:\n",
    "    print(f\"   \u2022 {item.label}\")"
   ]
  },
  {
   "cell_type": "markdown",
   "metadata": {},
   "source": [
    "## 6. Define Categories\n",
    "\n",
    "Let's organize our line items into logical categories for better reporting."
   ]
  },
  {
   "cell_type": "code",
   "execution_count": null,
   "metadata": {},
   "outputs": [],
   "source": [
    "# Define categories for organizing our financial model\n",
    "categories = [\n",
    "    Category(\n",
    "        name=\"revenue\",\n",
    "        label=\"Revenue Streams\",\n",
    "        include_total=True  # Automatically calculate total revenue\n",
    "    ),\n",
    "    Category(\n",
    "        name=\"expenses\",\n",
    "        label=\"Operating Expenses\",\n",
    "        include_total=True  # Automatically calculate total expenses\n",
    "    ),\n",
    "    Category(\n",
    "        name=\"calculated\",\n",
    "        label=\"Calculated Metrics\",\n",
    "        include_total=False  # No total needed for calculated items\n",
    "    ),\n",
    "    Category(\n",
    "        name=\"ratios\",\n",
    "        label=\"Financial Ratios\",\n",
    "        include_total=False  # No total needed for ratios\n",
    "    )\n",
    "]\n",
    "\n",
    "print(\"\u2705 Categories defined:\")\n",
    "for category in categories:\n",
    "    total_text = \"(with totals)\" if category.include_total else \"(no totals)\"\n",
    "    print(f\"   \u2022 {category.label} {total_text}\")"
   ]
  },
  {
   "cell_type": "markdown",
   "metadata": {},
   "source": [
    "## 7. Build the Financial Model\n",
    "\n",
    "Now let's combine all our line items and categories into a comprehensive financial model."
   ]
  },
  {
   "cell_type": "code",
   "execution_count": null,
   "metadata": {},
   "outputs": [],
   "source": [
    "# Combine all line items\n",
    "all_line_items = revenue_items + expense_items + calculated_items\n",
    "\n",
    "# Create the financial model\n",
    "financial_model = Model(\n",
    "    line_items=all_line_items,\n",
    "    categories=categories,\n",
    "    years=MODEL_YEARS\n",
    ")\n",
    "\n",
    "print(f\"\u2705 Financial model created successfully!\")\n",
    "print(f\"\ud83d\udcca Total line items: {len(all_line_items)}\")\n",
    "print(f\"\ud83d\udcc1 Categories: {len(categories)}\")\n",
    "print(f\"\ud83d\udcc5 Years covered: {MODEL_YEARS}\")\n",
    "\n",
    "# Let's verify the model by checking a few key values\n",
    "print(\"\\n\ud83d\udd0d Sample calculations:\")\n",
    "print(f\"Product Sales 2024: ${financial_model.get_value('product_sales', 2024):,.0f}\")\n",
    "print(f\"Total Revenue 2024: ${financial_model.category('revenue').totals()[2024]:,.0f}\")\n",
    "print(f\"EBITDA 2024: ${financial_model.get_value('ebitda', 2024):,.0f}\")"
   ]
  },
  {
   "cell_type": "markdown",
   "metadata": {},
   "source": [
    "## 8. Generate Summary Tables\n",
    "\n",
    "Let's create professional financial statement tables using the built-in table methods."
   ]
  },
  {
   "cell_type": "code",
   "execution_count": null,
   "metadata": {},
   "outputs": [],
   "source": [
    "# Generate comprehensive income statement using the all() method\n",
    "income_statement = financial_model.tables.all()\n",
    "\n",
    "print(\"\ud83d\udccb Pro Forma Income Statement (Complete Model)\")\n",
    "print(\"=\"*60)\n",
    "\n",
    "# Display the table as a pandas DataFrame for better formatting\n",
    "df = income_statement.to_dataframe()\n",
    "display(df)"
   ]
  },
  {
   "cell_type": "markdown",
   "metadata": {},
   "source": [
    "## 9. Revenue Breakdown Analysis\n",
    "\n",
    "Let's create a detailed view of our revenue components using category tables."
   ]
  },
  {
   "cell_type": "code",
   "execution_count": null,
   "metadata": {},
   "outputs": [],
   "source": [
    "# Create a focused revenue analysis table\n",
    "revenue_table = financial_model.tables.category('revenue')\n",
    "revenue_df = revenue_table.to_dataframe()\n",
    "\n",
    "print(\"\ud83d\udcb0 Revenue Stream Analysis\")\n",
    "print(\"=\"*40)\n",
    "display(revenue_df)\n",
    "\n",
    "# Calculate year-over-year growth rates\n",
    "print(\"\\n\ud83d\udcc8 Year-over-Year Growth Rates:\")\n",
    "for year in [2025, 2026]:\n",
    "    prev_year = year - 1\n",
    "    total_revenue_growth = financial_model.percent_change('revenue', year)\n",
    "    product_growth = financial_model.percent_change('product_sales', year)\n",
    "    service_growth = financial_model.percent_change('service_revenue', year)\n",
    "    \n",
    "    print(f\"{year}: Total Revenue +{total_revenue_growth:.1%}, Product Sales +{product_growth:.1%}, Service Revenue +{service_growth:.1%}\")"
   ]
  },
  {
   "cell_type": "markdown",
   "metadata": {},
   "source": [
    "## 10. Expense Analysis\n",
    "\n",
    "Let's analyze our expense structure."
   ]
  },
  {
   "cell_type": "code",
   "execution_count": null,
   "metadata": {},
   "outputs": [],
   "source": [
    "# Create expense analysis table\n",
    "expense_table = financial_model.tables.category('expenses')\n",
    "expense_df = expense_table.to_dataframe()\n",
    "\n",
    "print(\"\ud83d\udcb8 Expense Analysis\")\n",
    "print(\"=\"*30)\n",
    "display(expense_df)"
   ]
  },
  {
   "cell_type": "markdown",
   "metadata": {},
   "source": [
    "## 11. Create Interactive Charts\n",
    "\n",
    "Now let's visualize our financial data with interactive charts."
   ]
  },
  {
   "cell_type": "code",
   "execution_count": null,
   "metadata": {},
   "outputs": [],
   "source": [
    "# Revenue Streams Chart - Line chart showing growth of different revenue streams\n",
    "revenue_chart = financial_model.charts.items(\n",
    "    [\"product_sales\", \"service_revenue\", \"licensing_fees\", \"subscription_revenue\"],\n",
    ")\n",
    "\n",
    "print(\"\ud83d\udcca Revenue Streams Growth Chart:\")\n",
    "revenue_chart.show()"
   ]
  },
  {
   "cell_type": "code",
   "execution_count": null,
   "metadata": {},
   "outputs": [],
   "source": [
    "# Total Revenue vs Total Expenses - Bar chart comparison\n",
    "revenue_vs_expenses_chart = financial_model.charts.items(\n",
    "    [\"revenue\", \"expenses\"],  # These are category totals\n",
    ")\n",
    "\n",
    "print(\"\u2696\ufe0f Revenue vs Expenses Chart:\")\n",
    "revenue_vs_expenses_chart.show()"
   ]
  },
  {
   "cell_type": "code",
   "execution_count": null,
   "metadata": {},
   "outputs": [],
   "source": [
    "# Profitability Metrics - Line chart showing margins and EBITDA\n",
    "profitability_chart = financial_model.charts.items(\n",
    "    [\"gross_margin\", \"ebitda_margin\"],\n",
    ")\n",
    "\n",
    "print(\"\ud83d\udcc8 Profitability Margins Chart:\")\n",
    "profitability_chart.show()"
   ]
  },
  {
   "cell_type": "code",
   "execution_count": null,
   "metadata": {},
   "outputs": [],
   "source": [
    "# EBITDA Growth Chart\n",
    "ebitda_chart = financial_model.charts.item(\n",
    "    \"ebitda\",\n",
    "    chart_type=\"bar\",\n",
    "    title=\"EBITDA Growth Projection\"\n",
    ")\n",
    "\n",
    "print(\"\ud83d\udcbc EBITDA Growth Chart:\")\n",
    "ebitda_chart.show()"
   ]
  },
  {
   "cell_type": "markdown",
   "metadata": {},
   "source": [
    "## 12. Advanced Analysis and Insights\n",
    "\n",
    "Let's perform some advanced analysis on our financial model."
   ]
  },
  {
   "cell_type": "code",
   "execution_count": null,
   "metadata": {},
   "outputs": [],
   "source": [
    "# Key Financial Metrics Summary\n",
    "print(\"\ud83c\udfaf KEY FINANCIAL METRICS SUMMARY\")\n",
    "print(\"=\"*50)\n",
    "\n",
    "for year in MODEL_YEARS:\n",
    "    total_revenue = financial_model.category('revenue').totals()[year]\n",
    "    total_expenses = financial_model.category('expenses').totals()[year]\n",
    "    ebitda_value = financial_model.get_value('ebitda', year)\n",
    "    gross_margin_value = financial_model.get_value('gross_margin', year)\n",
    "    ebitda_margin_value = financial_model.get_value('ebitda_margin', year)\n",
    "    \n",
    "    print(f\"\\n\ud83d\udcc5 {year}:\")\n",
    "    print(f\"   Total Revenue:    ${total_revenue:,.0f}\")\n",
    "    print(f\"   Total Expenses:   ${total_expenses:,.0f}\")\n",
    "    print(f\"   EBITDA:          ${ebitda_value:,.0f}\")\n",
    "    print(f\"   Gross Margin:     {gross_margin_value:.1%}\")\n",
    "    print(f\"   EBITDA Margin:    {ebitda_margin_value:.1%}\")\n",
    "\n",
    "# Calculate compound annual growth rates (CAGR)\n",
    "print(\"\\n\ud83d\udcca COMPOUND ANNUAL GROWTH RATES (CAGR 2024-2026):\")\n",
    "print(\"-\"*55)\n",
    "\n",
    "def calculate_cagr(start_value, end_value, years):\n",
    "    return (end_value / start_value) ** (1/years) - 1\n",
    "\n",
    "revenue_2024 = financial_model.category('revenue').totals()[2024]\n",
    "revenue_2026 = financial_model.category('revenue').totals()[2026]\n",
    "ebitda_2024 = financial_model.get_value('ebitda', 2024)\n",
    "ebitda_2026 = financial_model.get_value('ebitda', 2026)\n",
    "\n",
    "revenue_cagr = calculate_cagr(revenue_2024, revenue_2026, 2)\n",
    "ebitda_cagr = calculate_cagr(ebitda_2024, ebitda_2026, 2)\n",
    "\n",
    "print(f\"Revenue CAGR:       {revenue_cagr:.1%}\")\n",
    "print(f\"EBITDA CAGR:        {ebitda_cagr:.1%}\")"
   ]
  },
  {
   "cell_type": "markdown",
   "metadata": {},
   "source": [
    "## 13. Revenue Mix Analysis\n",
    "\n",
    "Let's analyze how our revenue mix changes over time."
   ]
  },
  {
   "cell_type": "code",
   "execution_count": null,
   "metadata": {},
   "outputs": [],
   "source": [
    "# Calculate revenue mix percentages\n",
    "print(\"\ud83e\udd67 REVENUE MIX ANALYSIS\")\n",
    "print(\"=\"*40)\n",
    "\n",
    "revenue_items_names = [\"product_sales\", \"service_revenue\", \"licensing_fees\", \"subscription_revenue\"]\n",
    "revenue_items_labels = [\"Product Sales\", \"Service Revenue\", \"Licensing Fees\", \"Subscription Revenue\"]\n",
    "\n",
    "for year in MODEL_YEARS:\n",
    "    total_revenue = financial_model.category('revenue').totals()[year]\n",
    "    print(f\"\\n\ud83d\udcc5 {year} Revenue Mix:\")\n",
    "    \n",
    "    for name, label in zip(revenue_items_names, revenue_items_labels):\n",
    "        value = financial_model.get_value(name, year)\n",
    "        percentage = value / total_revenue\n",
    "        print(f\"   {label:20s}: ${value:8,.0f} ({percentage:5.1%})\")\n",
    "    \n",
    "    print(f\"   {'Total Revenue':20s}: ${total_revenue:8,.0f} (100.0%)\")"
   ]
  },
  {
   "cell_type": "markdown",
   "metadata": {},
   "source": [
    "## 14. Individual Line Item Analysis\n",
    "\n",
    "Let's look at detailed analysis for specific line items."
   ]
  },
  {
   "cell_type": "code",
   "execution_count": null,
   "metadata": {},
   "outputs": [],
   "source": [
    "# Analyze a specific line item in detail\n",
    "product_sales_table = financial_model.tables.line_item('product_sales')\n",
    "product_sales_df = product_sales_table.to_dataframe()\n",
    "\n",
    "print(\"\ud83d\udd0d Product Sales Detailed Analysis\")\n",
    "print(\"=\"*40)\n",
    "display(product_sales_df)"
   ]
  },
  {
   "cell_type": "markdown",
   "metadata": {},
   "source": [
    "## 15. Export Options\n",
    "\n",
    "Finally, let's demonstrate how to export our model and tables for external use."
   ]
  },
  {
   "cell_type": "code",
   "execution_count": null,
   "metadata": {},
   "outputs": [],
   "source": [
    "# Export the income statement to Excel\n",
    "try:\n",
    "    income_statement.to_excel(\"financial_model_income_statement.xlsx\")\n",
    "    print(\"\u2705 Income statement exported to: financial_model_income_statement.xlsx\")\n",
    "except Exception as e:\n",
    "    print(f\"\u26a0\ufe0f Could not export to Excel: {e}\")\n",
    "\n",
    "# Export the model data as a pandas DataFrame\n",
    "model_df = financial_model.to_dataframe()\n",
    "print(\"\\n\ud83d\udccb Complete Model Data (first 10 rows):\")\n",
    "display(model_df.head(10))\n",
    "\n",
    "# Save model configuration as YAML for later use\n",
    "try:\n",
    "    financial_model.save_yaml(\"financial_model.yaml\")\n",
    "    print(\"\\n\u2705 Model configuration saved to: financial_model.yaml\")\n",
    "except Exception as e:\n",
    "    print(f\"\\n\u26a0\ufe0f Could not save YAML: {e}\")\n",
    "\n",
    "print(\"\\n\ud83c\udf89 Financial model analysis complete!\")"
   ]
  },
  {
   "cell_type": "markdown",
   "metadata": {},
   "source": [
    "## Summary\n",
    "\n",
    "This notebook demonstrated the key features of the `pyproforma` library:\n",
    "\n",
    "### \u2705 What We Built\n",
    "- **Multi-stream Revenue Model**: 4 different revenue sources with varying growth rates\n",
    "- **Comprehensive Expense Structure**: 6 expense categories with different calculation methods\n",
    "- **Automated Calculations**: Formulas linking expenses to revenues and calculating derived metrics\n",
    "- **Professional Tables**: Formatted financial statements with proper categorization\n",
    "- **Interactive Visualizations**: Charts showing trends, comparisons, and profitability metrics\n",
    "\n",
    "### \ud83d\udd27 Key PyProforma Features Used\n",
    "- `LineItem`: Individual financial line items with values and formulas\n",
    "- `Category`: Organizing line items into logical groups with automatic totals\n",
    "- `Model`: Comprehensive financial model with automatic dependency resolution\n",
    "- `Tables`: Professional table generation using:\n",
    "  - `tables.all()`: Complete model overview\n",
    "  - `tables.category()`: Category-specific tables\n",
    "  - `tables.line_item()`: Individual line item analysis\n",
    "- `Charts`: Interactive Plotly-based visualizations\n",
    "- **Export Options**: Excel, YAML, and DataFrame formats\n",
    "\n",
    "### \ud83d\ude80 Next Steps\n",
    "You can extend this model by:\n",
    "- Adding more sophisticated formulas and constraints\n",
    "- Including cash flow and balance sheet items\n",
    "- Adding scenario analysis and sensitivity testing\n",
    "- Incorporating debt and financing models\n",
    "- Building interactive dashboards with the visualization components\n",
    "\n",
    "For more information, visit the [PyProforma documentation](https://github.com/rhannay/pyproforma)."
   ]
  }
 ],
 "metadata": {
  "kernelspec": {
   "display_name": "Python 3",
   "language": "python",
   "name": "python3"
  },
  "language_info": {
   "codemirror_mode": {
    "name": "ipython",
    "version": 3
   },
   "file_extension": ".py",
   "mimetype": "text/x-python",
   "name": "python",
   "nbconvert_exporter": "python",
   "pygments_lexer": "ipython3",
   "version": "3.8.0"
  }
 },
 "nbformat": 4,
 "nbformat_minor": 4
}