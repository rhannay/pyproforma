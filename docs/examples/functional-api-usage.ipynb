{
 "cells": [
  {
   "cell_type": "code",
   "execution_count": 1,
   "id": "bff81a8d",
   "metadata": {},
   "outputs": [],
   "source": [
    "from pyproforma import create_functional_api_model"
   ]
  },
  {
   "cell_type": "code",
   "execution_count": 2,
   "id": "8c78feb6",
   "metadata": {},
   "outputs": [],
   "source": [
    "model, (revenue, expenses) = create_functional_api_model(\n",
    "    line_item_names=[\"Revenue\", \"Expenses\"]\n",
    ")\n"
   ]
  },
  {
   "cell_type": "code",
   "execution_count": 5,
   "id": "26073c0c",
   "metadata": {},
   "outputs": [
    {
     "data": {
      "text/plain": [
       "LineItem(name='Inflation', category='general', label=None, values={2024: 0.05}, formula=None, value_format='no_decimals')"
      ]
     },
     "execution_count": 5,
     "metadata": {},
     "output_type": "execute_result"
    }
   ],
   "source": [
    "inflation = model.define('Inflation', 0.05)\n",
    "inflation"
   ]
  },
  {
   "cell_type": "code",
   "execution_count": 4,
   "id": "00cd433a",
   "metadata": {},
   "outputs": [
    {
     "data": {
      "text/plain": [
       "0.05"
      ]
     },
     "execution_count": 4,
     "metadata": {},
     "output_type": "execute_result"
    }
   ],
   "source": [
    "# Can define constant values\n",
    "\n",
    "model.value('Inflation', year=2024)"
   ]
  },
  {
   "cell_type": "code",
   "execution_count": 6,
   "id": "7cef2411",
   "metadata": {},
   "outputs": [
    {
     "name": "stdout",
     "output_type": "stream",
     "text": [
      "Revenue 2022: 1000\n",
      "Expenses 2022: 100\n"
     ]
    }
   ],
   "source": [
    "# Can set values directly\n",
    "\n",
    "revenue[2022] = 1000\n",
    "expenses[2022] = 100\n",
    "\n",
    "print(\"Revenue 2022:\", model.value('Revenue', year=2022))\n",
    "print(\"Expenses 2022:\", model.value('Expenses', year=2022))"
   ]
  },
  {
   "cell_type": "code",
   "execution_count": 8,
   "id": "bfb388dc",
   "metadata": {},
   "outputs": [
    {
     "name": "stdout",
     "output_type": "stream",
     "text": [
      "Revenue 2023: 1050.0\n",
      "Revenue 2024: 1102.5\n",
      "Revenue 2050: 3920.129138458655\n"
     ]
    }
   ],
   "source": [
    "# Can set formula-based values also using the define method\n",
    "\n",
    "model.define('Revenue', revenue[-1] * (inflation + 1))\n",
    "\n",
    "print(\"Revenue 2023:\", model.value('Revenue', year=2023))\n",
    "print(\"Revenue 2024:\", model.value('Revenue', year=2024))\n",
    "print(\"Revenue 2050:\", model.value('Revenue', year=2050))"
   ]
  },
  {
   "cell_type": "code",
   "execution_count": 12,
   "id": "268e030b",
   "metadata": {},
   "outputs": [
    {
     "data": {
      "text/plain": [
       "LineItem(name='Net_Income', category='general', label=None, values={2022: 900, 2023: 950.0, 2024: 1002.5, 2050: 3820.129138458655}, formula=None, value_format='no_decimals')"
      ]
     },
     "execution_count": 12,
     "metadata": {},
     "output_type": "execute_result"
    }
   ],
   "source": [
    "# Throws error if no update condition set, e.g. expenses not defined yet for future years\n",
    "model.define('Net_Income', revenue - expenses)\n"
   ]
  },
  {
   "cell_type": "code",
   "execution_count": 13,
   "id": "0513831c",
   "metadata": {},
   "outputs": [
    {
     "name": "stdout",
     "output_type": "stream",
     "text": [
      "Net Income 2022: 900\n",
      "Net Income 2023: 950.0\n",
      "Net Income 2024: 1002.5\n",
      "Net Income 2050: 3820.129138458655\n"
     ]
    }
   ],
   "source": [
    "# After defining expenses for future years, net income can be calculated\n",
    "\n",
    "model.define('Expenses', expenses[-1])\n",
    "\n",
    "print(\"Net Income 2022:\", model.value('Net_Income', year=2022))\n",
    "print(\"Net Income 2023:\", model.value('Net_Income', year=2023))\n",
    "print(\"Net Income 2024:\", model.value('Net_Income', year=2024))\n",
    "print(\"Net Income 2050:\", model.value('Net_Income', year=2050))"
   ]
  },
  {
   "cell_type": "code",
   "execution_count": 14,
   "id": "9088840e",
   "metadata": {},
   "outputs": [
    {
     "data": {
      "text/html": [
       "<style type=\"text/css\">\n",
       "#T_37326 th.col_heading.level0.col0 {\n",
       "  text-align: left;\n",
       "}\n",
       "#T_37326 th.col_heading.level0.col1 {\n",
       "  text-align: left;\n",
       "}\n",
       "#T_37326 th.col_heading.level0.col2 {\n",
       "  text-align: center;\n",
       "}\n",
       "#T_37326 th.col_heading.level0.col3 {\n",
       "  text-align: center;\n",
       "}\n",
       "#T_37326 th.col_heading.level0.col4 {\n",
       "  text-align: center;\n",
       "}\n",
       "#T_37326 th.col_heading.level0.col5 {\n",
       "  text-align: center;\n",
       "}\n",
       "#T_37326 th.col_heading.level0.col6 {\n",
       "  text-align: center;\n",
       "}\n",
       "#T_37326 th.col_heading.level0.col7 {\n",
       "  text-align: center;\n",
       "}\n",
       "#T_37326 th.col_heading.level0.col8 {\n",
       "  text-align: center;\n",
       "}\n",
       "#T_37326 th.col_heading.level0.col9 {\n",
       "  text-align: center;\n",
       "}\n",
       "#T_37326 th.col_heading.level0.col10 {\n",
       "  text-align: center;\n",
       "}\n",
       "#T_37326 th.col_heading.level0.col11 {\n",
       "  text-align: center;\n",
       "}\n",
       "#T_37326 th.col_heading.level0.col12 {\n",
       "  text-align: center;\n",
       "}\n",
       "#T_37326 th.col_heading.level0.col13 {\n",
       "  text-align: center;\n",
       "}\n",
       "#T_37326 th.col_heading.level0.col14 {\n",
       "  text-align: center;\n",
       "}\n",
       "#T_37326 th.col_heading.level0.col15 {\n",
       "  text-align: center;\n",
       "}\n",
       "#T_37326 th.col_heading.level0.col16 {\n",
       "  text-align: center;\n",
       "}\n",
       "#T_37326 th.col_heading.level0.col17 {\n",
       "  text-align: center;\n",
       "}\n",
       "#T_37326 th.col_heading.level0.col18 {\n",
       "  text-align: center;\n",
       "}\n",
       "#T_37326 th.col_heading.level0.col19 {\n",
       "  text-align: center;\n",
       "}\n",
       "#T_37326 th.col_heading.level0.col20 {\n",
       "  text-align: center;\n",
       "}\n",
       "#T_37326 th.col_heading.level0.col21 {\n",
       "  text-align: center;\n",
       "}\n",
       "#T_37326 th.col_heading.level0.col22 {\n",
       "  text-align: center;\n",
       "}\n",
       "#T_37326 th.col_heading.level0.col23 {\n",
       "  text-align: center;\n",
       "}\n",
       "#T_37326 th.col_heading.level0.col24 {\n",
       "  text-align: center;\n",
       "}\n",
       "#T_37326 th.col_heading.level0.col25 {\n",
       "  text-align: center;\n",
       "}\n",
       "#T_37326 th.col_heading.level0.col26 {\n",
       "  text-align: center;\n",
       "}\n",
       "#T_37326 th.col_heading.level0.col27 {\n",
       "  text-align: center;\n",
       "}\n",
       "#T_37326 th.col_heading.level0.col28 {\n",
       "  text-align: center;\n",
       "}\n",
       "#T_37326 th.col_heading.level0.col29 {\n",
       "  text-align: center;\n",
       "}\n",
       "#T_37326 th.col_heading.level0.col30 {\n",
       "  text-align: center;\n",
       "}\n",
       "#T_37326_row0_col0 {\n",
       "  font-weight: bold;\n",
       "  text-align: left;\n",
       "}\n",
       "#T_37326_row0_col1, #T_37326_row0_col2, #T_37326_row0_col3, #T_37326_row0_col4, #T_37326_row0_col5, #T_37326_row0_col6, #T_37326_row0_col7, #T_37326_row0_col8, #T_37326_row0_col9, #T_37326_row0_col10, #T_37326_row0_col11, #T_37326_row0_col12, #T_37326_row0_col13, #T_37326_row0_col14, #T_37326_row0_col15, #T_37326_row0_col16, #T_37326_row0_col17, #T_37326_row0_col18, #T_37326_row0_col19, #T_37326_row0_col20, #T_37326_row0_col21, #T_37326_row0_col22, #T_37326_row0_col23, #T_37326_row0_col24, #T_37326_row0_col25, #T_37326_row0_col26, #T_37326_row0_col27, #T_37326_row0_col28, #T_37326_row0_col29, #T_37326_row0_col30, #T_37326_row1_col2, #T_37326_row1_col3, #T_37326_row1_col4, #T_37326_row1_col5, #T_37326_row1_col6, #T_37326_row1_col7, #T_37326_row1_col8, #T_37326_row1_col9, #T_37326_row1_col10, #T_37326_row1_col11, #T_37326_row1_col12, #T_37326_row1_col13, #T_37326_row1_col14, #T_37326_row1_col15, #T_37326_row1_col16, #T_37326_row1_col17, #T_37326_row1_col18, #T_37326_row1_col19, #T_37326_row1_col20, #T_37326_row1_col21, #T_37326_row1_col22, #T_37326_row1_col23, #T_37326_row1_col24, #T_37326_row1_col25, #T_37326_row1_col26, #T_37326_row1_col27, #T_37326_row1_col28, #T_37326_row1_col29, #T_37326_row1_col30, #T_37326_row2_col2, #T_37326_row2_col3, #T_37326_row2_col4, #T_37326_row2_col5, #T_37326_row2_col6, #T_37326_row2_col7, #T_37326_row2_col8, #T_37326_row2_col9, #T_37326_row2_col10, #T_37326_row2_col11, #T_37326_row2_col12, #T_37326_row2_col13, #T_37326_row2_col14, #T_37326_row2_col15, #T_37326_row2_col16, #T_37326_row2_col17, #T_37326_row2_col18, #T_37326_row2_col19, #T_37326_row2_col20, #T_37326_row2_col21, #T_37326_row2_col22, #T_37326_row2_col23, #T_37326_row2_col24, #T_37326_row2_col25, #T_37326_row2_col26, #T_37326_row2_col27, #T_37326_row2_col28, #T_37326_row2_col29, #T_37326_row2_col30, #T_37326_row3_col2, #T_37326_row3_col3, #T_37326_row3_col4, #T_37326_row3_col5, #T_37326_row3_col6, #T_37326_row3_col7, #T_37326_row3_col8, #T_37326_row3_col9, #T_37326_row3_col10, #T_37326_row3_col11, #T_37326_row3_col12, #T_37326_row3_col13, #T_37326_row3_col14, #T_37326_row3_col15, #T_37326_row3_col16, #T_37326_row3_col17, #T_37326_row3_col18, #T_37326_row3_col19, #T_37326_row3_col20, #T_37326_row3_col21, #T_37326_row3_col22, #T_37326_row3_col23, #T_37326_row3_col24, #T_37326_row3_col25, #T_37326_row3_col26, #T_37326_row3_col27, #T_37326_row3_col28, #T_37326_row3_col29, #T_37326_row3_col30, #T_37326_row4_col2, #T_37326_row4_col3, #T_37326_row4_col4, #T_37326_row4_col5, #T_37326_row4_col6, #T_37326_row4_col7, #T_37326_row4_col8, #T_37326_row4_col9, #T_37326_row4_col10, #T_37326_row4_col11, #T_37326_row4_col12, #T_37326_row4_col13, #T_37326_row4_col14, #T_37326_row4_col15, #T_37326_row4_col16, #T_37326_row4_col17, #T_37326_row4_col18, #T_37326_row4_col19, #T_37326_row4_col20, #T_37326_row4_col21, #T_37326_row4_col22, #T_37326_row4_col23, #T_37326_row4_col24, #T_37326_row4_col25, #T_37326_row4_col26, #T_37326_row4_col27, #T_37326_row4_col28, #T_37326_row4_col29, #T_37326_row4_col30 {\n",
       "  text-align: right;\n",
       "}\n",
       "#T_37326_row1_col0, #T_37326_row1_col1, #T_37326_row2_col0, #T_37326_row2_col1, #T_37326_row3_col0, #T_37326_row3_col1, #T_37326_row4_col0, #T_37326_row4_col1 {\n",
       "  text-align: left;\n",
       "}\n",
       "</style>\n",
       "<table id=\"T_37326\">\n",
       "  <thead>\n",
       "    <tr>\n",
       "      <th class=\"blank level0\" >&nbsp;</th>\n",
       "      <th id=\"T_37326_level0_col0\" class=\"col_heading level0 col0\" >Label</th>\n",
       "      <th id=\"T_37326_level0_col1\" class=\"col_heading level0 col1\" >Name</th>\n",
       "      <th id=\"T_37326_level0_col2\" class=\"col_heading level0 col2\" >2022</th>\n",
       "      <th id=\"T_37326_level0_col3\" class=\"col_heading level0 col3\" >2023</th>\n",
       "      <th id=\"T_37326_level0_col4\" class=\"col_heading level0 col4\" >2024</th>\n",
       "      <th id=\"T_37326_level0_col5\" class=\"col_heading level0 col5\" >2025</th>\n",
       "      <th id=\"T_37326_level0_col6\" class=\"col_heading level0 col6\" >2026</th>\n",
       "      <th id=\"T_37326_level0_col7\" class=\"col_heading level0 col7\" >2027</th>\n",
       "      <th id=\"T_37326_level0_col8\" class=\"col_heading level0 col8\" >2028</th>\n",
       "      <th id=\"T_37326_level0_col9\" class=\"col_heading level0 col9\" >2029</th>\n",
       "      <th id=\"T_37326_level0_col10\" class=\"col_heading level0 col10\" >2030</th>\n",
       "      <th id=\"T_37326_level0_col11\" class=\"col_heading level0 col11\" >2031</th>\n",
       "      <th id=\"T_37326_level0_col12\" class=\"col_heading level0 col12\" >2032</th>\n",
       "      <th id=\"T_37326_level0_col13\" class=\"col_heading level0 col13\" >2033</th>\n",
       "      <th id=\"T_37326_level0_col14\" class=\"col_heading level0 col14\" >2034</th>\n",
       "      <th id=\"T_37326_level0_col15\" class=\"col_heading level0 col15\" >2035</th>\n",
       "      <th id=\"T_37326_level0_col16\" class=\"col_heading level0 col16\" >2036</th>\n",
       "      <th id=\"T_37326_level0_col17\" class=\"col_heading level0 col17\" >2037</th>\n",
       "      <th id=\"T_37326_level0_col18\" class=\"col_heading level0 col18\" >2038</th>\n",
       "      <th id=\"T_37326_level0_col19\" class=\"col_heading level0 col19\" >2039</th>\n",
       "      <th id=\"T_37326_level0_col20\" class=\"col_heading level0 col20\" >2040</th>\n",
       "      <th id=\"T_37326_level0_col21\" class=\"col_heading level0 col21\" >2041</th>\n",
       "      <th id=\"T_37326_level0_col22\" class=\"col_heading level0 col22\" >2042</th>\n",
       "      <th id=\"T_37326_level0_col23\" class=\"col_heading level0 col23\" >2043</th>\n",
       "      <th id=\"T_37326_level0_col24\" class=\"col_heading level0 col24\" >2044</th>\n",
       "      <th id=\"T_37326_level0_col25\" class=\"col_heading level0 col25\" >2045</th>\n",
       "      <th id=\"T_37326_level0_col26\" class=\"col_heading level0 col26\" >2046</th>\n",
       "      <th id=\"T_37326_level0_col27\" class=\"col_heading level0 col27\" >2047</th>\n",
       "      <th id=\"T_37326_level0_col28\" class=\"col_heading level0 col28\" >2048</th>\n",
       "      <th id=\"T_37326_level0_col29\" class=\"col_heading level0 col29\" >2049</th>\n",
       "      <th id=\"T_37326_level0_col30\" class=\"col_heading level0 col30\" >2050</th>\n",
       "    </tr>\n",
       "  </thead>\n",
       "  <tbody>\n",
       "    <tr>\n",
       "      <th id=\"T_37326_level0_row0\" class=\"row_heading level0 row0\" >0</th>\n",
       "      <td id=\"T_37326_row0_col0\" class=\"data row0 col0\" >General</td>\n",
       "      <td id=\"T_37326_row0_col1\" class=\"data row0 col1\" ></td>\n",
       "      <td id=\"T_37326_row0_col2\" class=\"data row0 col2\" ></td>\n",
       "      <td id=\"T_37326_row0_col3\" class=\"data row0 col3\" ></td>\n",
       "      <td id=\"T_37326_row0_col4\" class=\"data row0 col4\" ></td>\n",
       "      <td id=\"T_37326_row0_col5\" class=\"data row0 col5\" ></td>\n",
       "      <td id=\"T_37326_row0_col6\" class=\"data row0 col6\" ></td>\n",
       "      <td id=\"T_37326_row0_col7\" class=\"data row0 col7\" ></td>\n",
       "      <td id=\"T_37326_row0_col8\" class=\"data row0 col8\" ></td>\n",
       "      <td id=\"T_37326_row0_col9\" class=\"data row0 col9\" ></td>\n",
       "      <td id=\"T_37326_row0_col10\" class=\"data row0 col10\" ></td>\n",
       "      <td id=\"T_37326_row0_col11\" class=\"data row0 col11\" ></td>\n",
       "      <td id=\"T_37326_row0_col12\" class=\"data row0 col12\" ></td>\n",
       "      <td id=\"T_37326_row0_col13\" class=\"data row0 col13\" ></td>\n",
       "      <td id=\"T_37326_row0_col14\" class=\"data row0 col14\" ></td>\n",
       "      <td id=\"T_37326_row0_col15\" class=\"data row0 col15\" ></td>\n",
       "      <td id=\"T_37326_row0_col16\" class=\"data row0 col16\" ></td>\n",
       "      <td id=\"T_37326_row0_col17\" class=\"data row0 col17\" ></td>\n",
       "      <td id=\"T_37326_row0_col18\" class=\"data row0 col18\" ></td>\n",
       "      <td id=\"T_37326_row0_col19\" class=\"data row0 col19\" ></td>\n",
       "      <td id=\"T_37326_row0_col20\" class=\"data row0 col20\" ></td>\n",
       "      <td id=\"T_37326_row0_col21\" class=\"data row0 col21\" ></td>\n",
       "      <td id=\"T_37326_row0_col22\" class=\"data row0 col22\" ></td>\n",
       "      <td id=\"T_37326_row0_col23\" class=\"data row0 col23\" ></td>\n",
       "      <td id=\"T_37326_row0_col24\" class=\"data row0 col24\" ></td>\n",
       "      <td id=\"T_37326_row0_col25\" class=\"data row0 col25\" ></td>\n",
       "      <td id=\"T_37326_row0_col26\" class=\"data row0 col26\" ></td>\n",
       "      <td id=\"T_37326_row0_col27\" class=\"data row0 col27\" ></td>\n",
       "      <td id=\"T_37326_row0_col28\" class=\"data row0 col28\" ></td>\n",
       "      <td id=\"T_37326_row0_col29\" class=\"data row0 col29\" ></td>\n",
       "      <td id=\"T_37326_row0_col30\" class=\"data row0 col30\" ></td>\n",
       "    </tr>\n",
       "    <tr>\n",
       "      <th id=\"T_37326_level0_row1\" class=\"row_heading level0 row1\" >1</th>\n",
       "      <td id=\"T_37326_row1_col0\" class=\"data row1 col0\" >Revenue</td>\n",
       "      <td id=\"T_37326_row1_col1\" class=\"data row1 col1\" ></td>\n",
       "      <td id=\"T_37326_row1_col2\" class=\"data row1 col2\" >1,000</td>\n",
       "      <td id=\"T_37326_row1_col3\" class=\"data row1 col3\" >1,050</td>\n",
       "      <td id=\"T_37326_row1_col4\" class=\"data row1 col4\" >1,102</td>\n",
       "      <td id=\"T_37326_row1_col5\" class=\"data row1 col5\" >1,158</td>\n",
       "      <td id=\"T_37326_row1_col6\" class=\"data row1 col6\" >1,216</td>\n",
       "      <td id=\"T_37326_row1_col7\" class=\"data row1 col7\" >1,276</td>\n",
       "      <td id=\"T_37326_row1_col8\" class=\"data row1 col8\" >1,340</td>\n",
       "      <td id=\"T_37326_row1_col9\" class=\"data row1 col9\" >1,407</td>\n",
       "      <td id=\"T_37326_row1_col10\" class=\"data row1 col10\" >1,477</td>\n",
       "      <td id=\"T_37326_row1_col11\" class=\"data row1 col11\" >1,551</td>\n",
       "      <td id=\"T_37326_row1_col12\" class=\"data row1 col12\" >1,629</td>\n",
       "      <td id=\"T_37326_row1_col13\" class=\"data row1 col13\" >1,710</td>\n",
       "      <td id=\"T_37326_row1_col14\" class=\"data row1 col14\" >1,796</td>\n",
       "      <td id=\"T_37326_row1_col15\" class=\"data row1 col15\" >1,886</td>\n",
       "      <td id=\"T_37326_row1_col16\" class=\"data row1 col16\" >1,980</td>\n",
       "      <td id=\"T_37326_row1_col17\" class=\"data row1 col17\" >2,079</td>\n",
       "      <td id=\"T_37326_row1_col18\" class=\"data row1 col18\" >2,183</td>\n",
       "      <td id=\"T_37326_row1_col19\" class=\"data row1 col19\" >2,292</td>\n",
       "      <td id=\"T_37326_row1_col20\" class=\"data row1 col20\" >2,407</td>\n",
       "      <td id=\"T_37326_row1_col21\" class=\"data row1 col21\" >2,527</td>\n",
       "      <td id=\"T_37326_row1_col22\" class=\"data row1 col22\" >2,653</td>\n",
       "      <td id=\"T_37326_row1_col23\" class=\"data row1 col23\" >2,786</td>\n",
       "      <td id=\"T_37326_row1_col24\" class=\"data row1 col24\" >2,925</td>\n",
       "      <td id=\"T_37326_row1_col25\" class=\"data row1 col25\" >3,072</td>\n",
       "      <td id=\"T_37326_row1_col26\" class=\"data row1 col26\" >3,225</td>\n",
       "      <td id=\"T_37326_row1_col27\" class=\"data row1 col27\" >3,386</td>\n",
       "      <td id=\"T_37326_row1_col28\" class=\"data row1 col28\" >3,556</td>\n",
       "      <td id=\"T_37326_row1_col29\" class=\"data row1 col29\" >3,733</td>\n",
       "      <td id=\"T_37326_row1_col30\" class=\"data row1 col30\" >3,920</td>\n",
       "    </tr>\n",
       "    <tr>\n",
       "      <th id=\"T_37326_level0_row2\" class=\"row_heading level0 row2\" >2</th>\n",
       "      <td id=\"T_37326_row2_col0\" class=\"data row2 col0\" >Expenses</td>\n",
       "      <td id=\"T_37326_row2_col1\" class=\"data row2 col1\" ></td>\n",
       "      <td id=\"T_37326_row2_col2\" class=\"data row2 col2\" >100</td>\n",
       "      <td id=\"T_37326_row2_col3\" class=\"data row2 col3\" >100</td>\n",
       "      <td id=\"T_37326_row2_col4\" class=\"data row2 col4\" >100</td>\n",
       "      <td id=\"T_37326_row2_col5\" class=\"data row2 col5\" >100</td>\n",
       "      <td id=\"T_37326_row2_col6\" class=\"data row2 col6\" >100</td>\n",
       "      <td id=\"T_37326_row2_col7\" class=\"data row2 col7\" >100</td>\n",
       "      <td id=\"T_37326_row2_col8\" class=\"data row2 col8\" >100</td>\n",
       "      <td id=\"T_37326_row2_col9\" class=\"data row2 col9\" >100</td>\n",
       "      <td id=\"T_37326_row2_col10\" class=\"data row2 col10\" >100</td>\n",
       "      <td id=\"T_37326_row2_col11\" class=\"data row2 col11\" >100</td>\n",
       "      <td id=\"T_37326_row2_col12\" class=\"data row2 col12\" >100</td>\n",
       "      <td id=\"T_37326_row2_col13\" class=\"data row2 col13\" >100</td>\n",
       "      <td id=\"T_37326_row2_col14\" class=\"data row2 col14\" >100</td>\n",
       "      <td id=\"T_37326_row2_col15\" class=\"data row2 col15\" >100</td>\n",
       "      <td id=\"T_37326_row2_col16\" class=\"data row2 col16\" >100</td>\n",
       "      <td id=\"T_37326_row2_col17\" class=\"data row2 col17\" >100</td>\n",
       "      <td id=\"T_37326_row2_col18\" class=\"data row2 col18\" >100</td>\n",
       "      <td id=\"T_37326_row2_col19\" class=\"data row2 col19\" >100</td>\n",
       "      <td id=\"T_37326_row2_col20\" class=\"data row2 col20\" >100</td>\n",
       "      <td id=\"T_37326_row2_col21\" class=\"data row2 col21\" >100</td>\n",
       "      <td id=\"T_37326_row2_col22\" class=\"data row2 col22\" >100</td>\n",
       "      <td id=\"T_37326_row2_col23\" class=\"data row2 col23\" >100</td>\n",
       "      <td id=\"T_37326_row2_col24\" class=\"data row2 col24\" >100</td>\n",
       "      <td id=\"T_37326_row2_col25\" class=\"data row2 col25\" >100</td>\n",
       "      <td id=\"T_37326_row2_col26\" class=\"data row2 col26\" >100</td>\n",
       "      <td id=\"T_37326_row2_col27\" class=\"data row2 col27\" >100</td>\n",
       "      <td id=\"T_37326_row2_col28\" class=\"data row2 col28\" >100</td>\n",
       "      <td id=\"T_37326_row2_col29\" class=\"data row2 col29\" >100</td>\n",
       "      <td id=\"T_37326_row2_col30\" class=\"data row2 col30\" >100</td>\n",
       "    </tr>\n",
       "    <tr>\n",
       "      <th id=\"T_37326_level0_row3\" class=\"row_heading level0 row3\" >3</th>\n",
       "      <td id=\"T_37326_row3_col0\" class=\"data row3 col0\" >Inflation</td>\n",
       "      <td id=\"T_37326_row3_col1\" class=\"data row3 col1\" ></td>\n",
       "      <td id=\"T_37326_row3_col2\" class=\"data row3 col2\" >0</td>\n",
       "      <td id=\"T_37326_row3_col3\" class=\"data row3 col3\" >0</td>\n",
       "      <td id=\"T_37326_row3_col4\" class=\"data row3 col4\" >0</td>\n",
       "      <td id=\"T_37326_row3_col5\" class=\"data row3 col5\" >0</td>\n",
       "      <td id=\"T_37326_row3_col6\" class=\"data row3 col6\" >0</td>\n",
       "      <td id=\"T_37326_row3_col7\" class=\"data row3 col7\" >0</td>\n",
       "      <td id=\"T_37326_row3_col8\" class=\"data row3 col8\" >0</td>\n",
       "      <td id=\"T_37326_row3_col9\" class=\"data row3 col9\" >0</td>\n",
       "      <td id=\"T_37326_row3_col10\" class=\"data row3 col10\" >0</td>\n",
       "      <td id=\"T_37326_row3_col11\" class=\"data row3 col11\" >0</td>\n",
       "      <td id=\"T_37326_row3_col12\" class=\"data row3 col12\" >0</td>\n",
       "      <td id=\"T_37326_row3_col13\" class=\"data row3 col13\" >0</td>\n",
       "      <td id=\"T_37326_row3_col14\" class=\"data row3 col14\" >0</td>\n",
       "      <td id=\"T_37326_row3_col15\" class=\"data row3 col15\" >0</td>\n",
       "      <td id=\"T_37326_row3_col16\" class=\"data row3 col16\" >0</td>\n",
       "      <td id=\"T_37326_row3_col17\" class=\"data row3 col17\" >0</td>\n",
       "      <td id=\"T_37326_row3_col18\" class=\"data row3 col18\" >0</td>\n",
       "      <td id=\"T_37326_row3_col19\" class=\"data row3 col19\" >0</td>\n",
       "      <td id=\"T_37326_row3_col20\" class=\"data row3 col20\" >0</td>\n",
       "      <td id=\"T_37326_row3_col21\" class=\"data row3 col21\" >0</td>\n",
       "      <td id=\"T_37326_row3_col22\" class=\"data row3 col22\" >0</td>\n",
       "      <td id=\"T_37326_row3_col23\" class=\"data row3 col23\" >0</td>\n",
       "      <td id=\"T_37326_row3_col24\" class=\"data row3 col24\" >0</td>\n",
       "      <td id=\"T_37326_row3_col25\" class=\"data row3 col25\" >0</td>\n",
       "      <td id=\"T_37326_row3_col26\" class=\"data row3 col26\" >0</td>\n",
       "      <td id=\"T_37326_row3_col27\" class=\"data row3 col27\" >0</td>\n",
       "      <td id=\"T_37326_row3_col28\" class=\"data row3 col28\" >0</td>\n",
       "      <td id=\"T_37326_row3_col29\" class=\"data row3 col29\" >0</td>\n",
       "      <td id=\"T_37326_row3_col30\" class=\"data row3 col30\" >0</td>\n",
       "    </tr>\n",
       "    <tr>\n",
       "      <th id=\"T_37326_level0_row4\" class=\"row_heading level0 row4\" >4</th>\n",
       "      <td id=\"T_37326_row4_col0\" class=\"data row4 col0\" >Net_Income</td>\n",
       "      <td id=\"T_37326_row4_col1\" class=\"data row4 col1\" ></td>\n",
       "      <td id=\"T_37326_row4_col2\" class=\"data row4 col2\" >900</td>\n",
       "      <td id=\"T_37326_row4_col3\" class=\"data row4 col3\" >950</td>\n",
       "      <td id=\"T_37326_row4_col4\" class=\"data row4 col4\" >1,002</td>\n",
       "      <td id=\"T_37326_row4_col5\" class=\"data row4 col5\" >1,058</td>\n",
       "      <td id=\"T_37326_row4_col6\" class=\"data row4 col6\" >1,116</td>\n",
       "      <td id=\"T_37326_row4_col7\" class=\"data row4 col7\" >1,176</td>\n",
       "      <td id=\"T_37326_row4_col8\" class=\"data row4 col8\" >1,240</td>\n",
       "      <td id=\"T_37326_row4_col9\" class=\"data row4 col9\" >1,307</td>\n",
       "      <td id=\"T_37326_row4_col10\" class=\"data row4 col10\" >1,377</td>\n",
       "      <td id=\"T_37326_row4_col11\" class=\"data row4 col11\" >1,451</td>\n",
       "      <td id=\"T_37326_row4_col12\" class=\"data row4 col12\" >1,529</td>\n",
       "      <td id=\"T_37326_row4_col13\" class=\"data row4 col13\" >1,610</td>\n",
       "      <td id=\"T_37326_row4_col14\" class=\"data row4 col14\" >1,696</td>\n",
       "      <td id=\"T_37326_row4_col15\" class=\"data row4 col15\" >1,786</td>\n",
       "      <td id=\"T_37326_row4_col16\" class=\"data row4 col16\" >1,880</td>\n",
       "      <td id=\"T_37326_row4_col17\" class=\"data row4 col17\" >1,979</td>\n",
       "      <td id=\"T_37326_row4_col18\" class=\"data row4 col18\" >2,083</td>\n",
       "      <td id=\"T_37326_row4_col19\" class=\"data row4 col19\" >2,192</td>\n",
       "      <td id=\"T_37326_row4_col20\" class=\"data row4 col20\" >2,307</td>\n",
       "      <td id=\"T_37326_row4_col21\" class=\"data row4 col21\" >2,427</td>\n",
       "      <td id=\"T_37326_row4_col22\" class=\"data row4 col22\" >2,553</td>\n",
       "      <td id=\"T_37326_row4_col23\" class=\"data row4 col23\" >2,686</td>\n",
       "      <td id=\"T_37326_row4_col24\" class=\"data row4 col24\" >2,825</td>\n",
       "      <td id=\"T_37326_row4_col25\" class=\"data row4 col25\" >2,972</td>\n",
       "      <td id=\"T_37326_row4_col26\" class=\"data row4 col26\" >3,125</td>\n",
       "      <td id=\"T_37326_row4_col27\" class=\"data row4 col27\" >3,286</td>\n",
       "      <td id=\"T_37326_row4_col28\" class=\"data row4 col28\" >3,456</td>\n",
       "      <td id=\"T_37326_row4_col29\" class=\"data row4 col29\" >3,633</td>\n",
       "      <td id=\"T_37326_row4_col30\" class=\"data row4 col30\" >3,820</td>\n",
       "    </tr>\n",
       "  </tbody>\n",
       "</table>\n"
      ],
      "text/plain": [
       "Table(columns=[Column(label='Label', text_align='left', value_format='str'), Column(label='Name', text_align='left', value_format='str'), Column(label=2022, text_align='center', value_format='year'), Column(label=2023, text_align='center', value_format='year'), Column(label=2024, text_align='center', value_format='year'), Column(label=2025, text_align='center', value_format='year'), Column(label=2026, text_align='center', value_format='year'), Column(label=2027, text_align='center', value_format='year'), Column(label=2028, text_align='center', value_format='year'), Column(label=2029, text_align='center', value_format='year'), Column(label=2030, text_align='center', value_format='year'), Column(label=2031, text_align='center', value_format='year'), Column(label=2032, text_align='center', value_format='year'), Column(label=2033, text_align='center', value_format='year'), Column(label=2034, text_align='center', value_format='year'), Column(label=2035, text_align='center', value_format='year'), Column(label=2036, text_align='center', value_format='year'), Column(label=2037, text_align='center', value_format='year'), Column(label=2038, text_align='center', value_format='year'), Column(label=2039, text_align='center', value_format='year'), Column(label=2040, text_align='center', value_format='year'), Column(label=2041, text_align='center', value_format='year'), Column(label=2042, text_align='center', value_format='year'), Column(label=2043, text_align='center', value_format='year'), Column(label=2044, text_align='center', value_format='year'), Column(label=2045, text_align='center', value_format='year'), Column(label=2046, text_align='center', value_format='year'), Column(label=2047, text_align='center', value_format='year'), Column(label=2048, text_align='center', value_format='year'), Column(label=2049, text_align='center', value_format='year'), Column(label=2050, text_align='center', value_format='year')], rows=[Row(cells=[Cell(value='General', bold=True, align='left', value_format=None, background_color=None, font_color=None, bottom_border=None, top_border=None), Cell(value='', bold=False, align='right', value_format=None, background_color=None, font_color=None, bottom_border=None, top_border=None), Cell(value='', bold=False, align='right', value_format=None, background_color=None, font_color=None, bottom_border=None, top_border=None), Cell(value='', bold=False, align='right', value_format=None, background_color=None, font_color=None, bottom_border=None, top_border=None), Cell(value='', bold=False, align='right', value_format=None, background_color=None, font_color=None, bottom_border=None, top_border=None), Cell(value='', bold=False, align='right', value_format=None, background_color=None, font_color=None, bottom_border=None, top_border=None), Cell(value='', bold=False, align='right', value_format=None, background_color=None, font_color=None, bottom_border=None, top_border=None), Cell(value='', bold=False, align='right', value_format=None, background_color=None, font_color=None, bottom_border=None, top_border=None), Cell(value='', bold=False, align='right', value_format=None, background_color=None, font_color=None, bottom_border=None, top_border=None), Cell(value='', bold=False, align='right', value_format=None, background_color=None, font_color=None, bottom_border=None, top_border=None), Cell(value='', bold=False, align='right', value_format=None, background_color=None, font_color=None, bottom_border=None, top_border=None), Cell(value='', bold=False, align='right', value_format=None, background_color=None, font_color=None, bottom_border=None, top_border=None), Cell(value='', bold=False, align='right', value_format=None, background_color=None, font_color=None, bottom_border=None, top_border=None), Cell(value='', bold=False, align='right', value_format=None, background_color=None, font_color=None, bottom_border=None, top_border=None), Cell(value='', bold=False, align='right', value_format=None, background_color=None, font_color=None, bottom_border=None, top_border=None), Cell(value='', bold=False, align='right', value_format=None, background_color=None, font_color=None, bottom_border=None, top_border=None), Cell(value='', bold=False, align='right', value_format=None, background_color=None, font_color=None, bottom_border=None, top_border=None), Cell(value='', bold=False, align='right', value_format=None, background_color=None, font_color=None, bottom_border=None, top_border=None), Cell(value='', bold=False, align='right', value_format=None, background_color=None, font_color=None, bottom_border=None, top_border=None), Cell(value='', bold=False, align='right', value_format=None, background_color=None, font_color=None, bottom_border=None, top_border=None), Cell(value='', bold=False, align='right', value_format=None, background_color=None, font_color=None, bottom_border=None, top_border=None), Cell(value='', bold=False, align='right', value_format=None, background_color=None, font_color=None, bottom_border=None, top_border=None), Cell(value='', bold=False, align='right', value_format=None, background_color=None, font_color=None, bottom_border=None, top_border=None), Cell(value='', bold=False, align='right', value_format=None, background_color=None, font_color=None, bottom_border=None, top_border=None), Cell(value='', bold=False, align='right', value_format=None, background_color=None, font_color=None, bottom_border=None, top_border=None), Cell(value='', bold=False, align='right', value_format=None, background_color=None, font_color=None, bottom_border=None, top_border=None), Cell(value='', bold=False, align='right', value_format=None, background_color=None, font_color=None, bottom_border=None, top_border=None), Cell(value='', bold=False, align='right', value_format=None, background_color=None, font_color=None, bottom_border=None, top_border=None), Cell(value='', bold=False, align='right', value_format=None, background_color=None, font_color=None, bottom_border=None, top_border=None), Cell(value='', bold=False, align='right', value_format=None, background_color=None, font_color=None, bottom_border=None, top_border=None), Cell(value='', bold=False, align='right', value_format=None, background_color=None, font_color=None, bottom_border=None, top_border=None)]), Row(cells=[Cell(value='Revenue', bold=False, align='left', value_format=None, background_color=None, font_color=None, bottom_border=None, top_border=None), Cell(value=None, bold=False, align='left', value_format=None, background_color=None, font_color=None, bottom_border=None, top_border=None), Cell(value=1000, bold=False, align='right', value_format='no_decimals', background_color=None, font_color=None, bottom_border=None, top_border=None), Cell(value=1050.0, bold=False, align='right', value_format='no_decimals', background_color=None, font_color=None, bottom_border=None, top_border=None), Cell(value=1102.5, bold=False, align='right', value_format='no_decimals', background_color=None, font_color=None, bottom_border=None, top_border=None), Cell(value=1157.625, bold=False, align='right', value_format='no_decimals', background_color=None, font_color=None, bottom_border=None, top_border=None), Cell(value=1215.5062500000001, bold=False, align='right', value_format='no_decimals', background_color=None, font_color=None, bottom_border=None, top_border=None), Cell(value=1276.2815625000003, bold=False, align='right', value_format='no_decimals', background_color=None, font_color=None, bottom_border=None, top_border=None), Cell(value=1340.0956406250004, bold=False, align='right', value_format='no_decimals', background_color=None, font_color=None, bottom_border=None, top_border=None), Cell(value=1407.1004226562504, bold=False, align='right', value_format='no_decimals', background_color=None, font_color=None, bottom_border=None, top_border=None), Cell(value=1477.455443789063, bold=False, align='right', value_format='no_decimals', background_color=None, font_color=None, bottom_border=None, top_border=None), Cell(value=1551.3282159785163, bold=False, align='right', value_format='no_decimals', background_color=None, font_color=None, bottom_border=None, top_border=None), Cell(value=1628.8946267774422, bold=False, align='right', value_format='no_decimals', background_color=None, font_color=None, bottom_border=None, top_border=None), Cell(value=1710.3393581163143, bold=False, align='right', value_format='no_decimals', background_color=None, font_color=None, bottom_border=None, top_border=None), Cell(value=1795.8563260221301, bold=False, align='right', value_format='no_decimals', background_color=None, font_color=None, bottom_border=None, top_border=None), Cell(value=1885.6491423232367, bold=False, align='right', value_format='no_decimals', background_color=None, font_color=None, bottom_border=None, top_border=None), Cell(value=1979.9315994393985, bold=False, align='right', value_format='no_decimals', background_color=None, font_color=None, bottom_border=None, top_border=None), Cell(value=2078.9281794113685, bold=False, align='right', value_format='no_decimals', background_color=None, font_color=None, bottom_border=None, top_border=None), Cell(value=2182.874588381937, bold=False, align='right', value_format='no_decimals', background_color=None, font_color=None, bottom_border=None, top_border=None), Cell(value=2292.018317801034, bold=False, align='right', value_format='no_decimals', background_color=None, font_color=None, bottom_border=None, top_border=None), Cell(value=2406.619233691086, bold=False, align='right', value_format='no_decimals', background_color=None, font_color=None, bottom_border=None, top_border=None), Cell(value=2526.9501953756403, bold=False, align='right', value_format='no_decimals', background_color=None, font_color=None, bottom_border=None, top_border=None), Cell(value=2653.2977051444223, bold=False, align='right', value_format='no_decimals', background_color=None, font_color=None, bottom_border=None, top_border=None), Cell(value=2785.9625904016434, bold=False, align='right', value_format='no_decimals', background_color=None, font_color=None, bottom_border=None, top_border=None), Cell(value=2925.260719921726, bold=False, align='right', value_format='no_decimals', background_color=None, font_color=None, bottom_border=None, top_border=None), Cell(value=3071.523755917812, bold=False, align='right', value_format='no_decimals', background_color=None, font_color=None, bottom_border=None, top_border=None), Cell(value=3225.099943713703, bold=False, align='right', value_format='no_decimals', background_color=None, font_color=None, bottom_border=None, top_border=None), Cell(value=3386.354940899388, bold=False, align='right', value_format='no_decimals', background_color=None, font_color=None, bottom_border=None, top_border=None), Cell(value=3555.6726879443577, bold=False, align='right', value_format='no_decimals', background_color=None, font_color=None, bottom_border=None, top_border=None), Cell(value=3733.4563223415757, bold=False, align='right', value_format='no_decimals', background_color=None, font_color=None, bottom_border=None, top_border=None), Cell(value=3920.129138458655, bold=False, align='right', value_format='no_decimals', background_color=None, font_color=None, bottom_border=None, top_border=None)]), Row(cells=[Cell(value='Expenses', bold=False, align='left', value_format=None, background_color=None, font_color=None, bottom_border=None, top_border=None), Cell(value=None, bold=False, align='left', value_format=None, background_color=None, font_color=None, bottom_border=None, top_border=None), Cell(value=100, bold=False, align='right', value_format='no_decimals', background_color=None, font_color=None, bottom_border=None, top_border=None), Cell(value=100, bold=False, align='right', value_format='no_decimals', background_color=None, font_color=None, bottom_border=None, top_border=None), Cell(value=100, bold=False, align='right', value_format='no_decimals', background_color=None, font_color=None, bottom_border=None, top_border=None), Cell(value=100, bold=False, align='right', value_format='no_decimals', background_color=None, font_color=None, bottom_border=None, top_border=None), Cell(value=100, bold=False, align='right', value_format='no_decimals', background_color=None, font_color=None, bottom_border=None, top_border=None), Cell(value=100, bold=False, align='right', value_format='no_decimals', background_color=None, font_color=None, bottom_border=None, top_border=None), Cell(value=100, bold=False, align='right', value_format='no_decimals', background_color=None, font_color=None, bottom_border=None, top_border=None), Cell(value=100, bold=False, align='right', value_format='no_decimals', background_color=None, font_color=None, bottom_border=None, top_border=None), Cell(value=100, bold=False, align='right', value_format='no_decimals', background_color=None, font_color=None, bottom_border=None, top_border=None), Cell(value=100, bold=False, align='right', value_format='no_decimals', background_color=None, font_color=None, bottom_border=None, top_border=None), Cell(value=100, bold=False, align='right', value_format='no_decimals', background_color=None, font_color=None, bottom_border=None, top_border=None), Cell(value=100, bold=False, align='right', value_format='no_decimals', background_color=None, font_color=None, bottom_border=None, top_border=None), Cell(value=100, bold=False, align='right', value_format='no_decimals', background_color=None, font_color=None, bottom_border=None, top_border=None), Cell(value=100, bold=False, align='right', value_format='no_decimals', background_color=None, font_color=None, bottom_border=None, top_border=None), Cell(value=100, bold=False, align='right', value_format='no_decimals', background_color=None, font_color=None, bottom_border=None, top_border=None), Cell(value=100, bold=False, align='right', value_format='no_decimals', background_color=None, font_color=None, bottom_border=None, top_border=None), Cell(value=100, bold=False, align='right', value_format='no_decimals', background_color=None, font_color=None, bottom_border=None, top_border=None), Cell(value=100, bold=False, align='right', value_format='no_decimals', background_color=None, font_color=None, bottom_border=None, top_border=None), Cell(value=100, bold=False, align='right', value_format='no_decimals', background_color=None, font_color=None, bottom_border=None, top_border=None), Cell(value=100, bold=False, align='right', value_format='no_decimals', background_color=None, font_color=None, bottom_border=None, top_border=None), Cell(value=100, bold=False, align='right', value_format='no_decimals', background_color=None, font_color=None, bottom_border=None, top_border=None), Cell(value=100, bold=False, align='right', value_format='no_decimals', background_color=None, font_color=None, bottom_border=None, top_border=None), Cell(value=100, bold=False, align='right', value_format='no_decimals', background_color=None, font_color=None, bottom_border=None, top_border=None), Cell(value=100, bold=False, align='right', value_format='no_decimals', background_color=None, font_color=None, bottom_border=None, top_border=None), Cell(value=100, bold=False, align='right', value_format='no_decimals', background_color=None, font_color=None, bottom_border=None, top_border=None), Cell(value=100, bold=False, align='right', value_format='no_decimals', background_color=None, font_color=None, bottom_border=None, top_border=None), Cell(value=100, bold=False, align='right', value_format='no_decimals', background_color=None, font_color=None, bottom_border=None, top_border=None), Cell(value=100, bold=False, align='right', value_format='no_decimals', background_color=None, font_color=None, bottom_border=None, top_border=None), Cell(value=100, bold=False, align='right', value_format='no_decimals', background_color=None, font_color=None, bottom_border=None, top_border=None)]), Row(cells=[Cell(value='Inflation', bold=False, align='left', value_format=None, background_color=None, font_color=None, bottom_border=None, top_border=None), Cell(value=None, bold=False, align='left', value_format=None, background_color=None, font_color=None, bottom_border=None, top_border=None), Cell(value=0.05, bold=False, align='right', value_format='no_decimals', background_color=None, font_color=None, bottom_border=None, top_border=None), Cell(value=0.05, bold=False, align='right', value_format='no_decimals', background_color=None, font_color=None, bottom_border=None, top_border=None), Cell(value=0.05, bold=False, align='right', value_format='no_decimals', background_color=None, font_color=None, bottom_border=None, top_border=None), Cell(value=0.05, bold=False, align='right', value_format='no_decimals', background_color=None, font_color=None, bottom_border=None, top_border=None), Cell(value=0.05, bold=False, align='right', value_format='no_decimals', background_color=None, font_color=None, bottom_border=None, top_border=None), Cell(value=0.05, bold=False, align='right', value_format='no_decimals', background_color=None, font_color=None, bottom_border=None, top_border=None), Cell(value=0.05, bold=False, align='right', value_format='no_decimals', background_color=None, font_color=None, bottom_border=None, top_border=None), Cell(value=0.05, bold=False, align='right', value_format='no_decimals', background_color=None, font_color=None, bottom_border=None, top_border=None), Cell(value=0.05, bold=False, align='right', value_format='no_decimals', background_color=None, font_color=None, bottom_border=None, top_border=None), Cell(value=0.05, bold=False, align='right', value_format='no_decimals', background_color=None, font_color=None, bottom_border=None, top_border=None), Cell(value=0.05, bold=False, align='right', value_format='no_decimals', background_color=None, font_color=None, bottom_border=None, top_border=None), Cell(value=0.05, bold=False, align='right', value_format='no_decimals', background_color=None, font_color=None, bottom_border=None, top_border=None), Cell(value=0.05, bold=False, align='right', value_format='no_decimals', background_color=None, font_color=None, bottom_border=None, top_border=None), Cell(value=0.05, bold=False, align='right', value_format='no_decimals', background_color=None, font_color=None, bottom_border=None, top_border=None), Cell(value=0.05, bold=False, align='right', value_format='no_decimals', background_color=None, font_color=None, bottom_border=None, top_border=None), Cell(value=0.05, bold=False, align='right', value_format='no_decimals', background_color=None, font_color=None, bottom_border=None, top_border=None), Cell(value=0.05, bold=False, align='right', value_format='no_decimals', background_color=None, font_color=None, bottom_border=None, top_border=None), Cell(value=0.05, bold=False, align='right', value_format='no_decimals', background_color=None, font_color=None, bottom_border=None, top_border=None), Cell(value=0.05, bold=False, align='right', value_format='no_decimals', background_color=None, font_color=None, bottom_border=None, top_border=None), Cell(value=0.05, bold=False, align='right', value_format='no_decimals', background_color=None, font_color=None, bottom_border=None, top_border=None), Cell(value=0.05, bold=False, align='right', value_format='no_decimals', background_color=None, font_color=None, bottom_border=None, top_border=None), Cell(value=0.05, bold=False, align='right', value_format='no_decimals', background_color=None, font_color=None, bottom_border=None, top_border=None), Cell(value=0.05, bold=False, align='right', value_format='no_decimals', background_color=None, font_color=None, bottom_border=None, top_border=None), Cell(value=0.05, bold=False, align='right', value_format='no_decimals', background_color=None, font_color=None, bottom_border=None, top_border=None), Cell(value=0.05, bold=False, align='right', value_format='no_decimals', background_color=None, font_color=None, bottom_border=None, top_border=None), Cell(value=0.05, bold=False, align='right', value_format='no_decimals', background_color=None, font_color=None, bottom_border=None, top_border=None), Cell(value=0.05, bold=False, align='right', value_format='no_decimals', background_color=None, font_color=None, bottom_border=None, top_border=None), Cell(value=0.05, bold=False, align='right', value_format='no_decimals', background_color=None, font_color=None, bottom_border=None, top_border=None), Cell(value=0.05, bold=False, align='right', value_format='no_decimals', background_color=None, font_color=None, bottom_border=None, top_border=None)]), Row(cells=[Cell(value='Net_Income', bold=False, align='left', value_format=None, background_color=None, font_color=None, bottom_border=None, top_border=None), Cell(value=None, bold=False, align='left', value_format=None, background_color=None, font_color=None, bottom_border=None, top_border=None), Cell(value=900, bold=False, align='right', value_format='no_decimals', background_color=None, font_color=None, bottom_border=None, top_border=None), Cell(value=950.0, bold=False, align='right', value_format='no_decimals', background_color=None, font_color=None, bottom_border=None, top_border=None), Cell(value=1002.5, bold=False, align='right', value_format='no_decimals', background_color=None, font_color=None, bottom_border=None, top_border=None), Cell(value=1057.625, bold=False, align='right', value_format='no_decimals', background_color=None, font_color=None, bottom_border=None, top_border=None), Cell(value=1115.5062500000001, bold=False, align='right', value_format='no_decimals', background_color=None, font_color=None, bottom_border=None, top_border=None), Cell(value=1176.2815625000003, bold=False, align='right', value_format='no_decimals', background_color=None, font_color=None, bottom_border=None, top_border=None), Cell(value=1240.0956406250004, bold=False, align='right', value_format='no_decimals', background_color=None, font_color=None, bottom_border=None, top_border=None), Cell(value=1307.1004226562504, bold=False, align='right', value_format='no_decimals', background_color=None, font_color=None, bottom_border=None, top_border=None), Cell(value=1377.455443789063, bold=False, align='right', value_format='no_decimals', background_color=None, font_color=None, bottom_border=None, top_border=None), Cell(value=1451.3282159785163, bold=False, align='right', value_format='no_decimals', background_color=None, font_color=None, bottom_border=None, top_border=None), Cell(value=1528.8946267774422, bold=False, align='right', value_format='no_decimals', background_color=None, font_color=None, bottom_border=None, top_border=None), Cell(value=1610.3393581163143, bold=False, align='right', value_format='no_decimals', background_color=None, font_color=None, bottom_border=None, top_border=None), Cell(value=1695.8563260221301, bold=False, align='right', value_format='no_decimals', background_color=None, font_color=None, bottom_border=None, top_border=None), Cell(value=1785.6491423232367, bold=False, align='right', value_format='no_decimals', background_color=None, font_color=None, bottom_border=None, top_border=None), Cell(value=1879.9315994393985, bold=False, align='right', value_format='no_decimals', background_color=None, font_color=None, bottom_border=None, top_border=None), Cell(value=1978.9281794113685, bold=False, align='right', value_format='no_decimals', background_color=None, font_color=None, bottom_border=None, top_border=None), Cell(value=2082.874588381937, bold=False, align='right', value_format='no_decimals', background_color=None, font_color=None, bottom_border=None, top_border=None), Cell(value=2192.018317801034, bold=False, align='right', value_format='no_decimals', background_color=None, font_color=None, bottom_border=None, top_border=None), Cell(value=2306.619233691086, bold=False, align='right', value_format='no_decimals', background_color=None, font_color=None, bottom_border=None, top_border=None), Cell(value=2426.9501953756403, bold=False, align='right', value_format='no_decimals', background_color=None, font_color=None, bottom_border=None, top_border=None), Cell(value=2553.2977051444223, bold=False, align='right', value_format='no_decimals', background_color=None, font_color=None, bottom_border=None, top_border=None), Cell(value=2685.9625904016434, bold=False, align='right', value_format='no_decimals', background_color=None, font_color=None, bottom_border=None, top_border=None), Cell(value=2825.260719921726, bold=False, align='right', value_format='no_decimals', background_color=None, font_color=None, bottom_border=None, top_border=None), Cell(value=2971.523755917812, bold=False, align='right', value_format='no_decimals', background_color=None, font_color=None, bottom_border=None, top_border=None), Cell(value=3125.099943713703, bold=False, align='right', value_format='no_decimals', background_color=None, font_color=None, bottom_border=None, top_border=None), Cell(value=3286.354940899388, bold=False, align='right', value_format='no_decimals', background_color=None, font_color=None, bottom_border=None, top_border=None), Cell(value=3455.6726879443577, bold=False, align='right', value_format='no_decimals', background_color=None, font_color=None, bottom_border=None, top_border=None), Cell(value=3633.4563223415757, bold=False, align='right', value_format='no_decimals', background_color=None, font_color=None, bottom_border=None, top_border=None), Cell(value=3820.129138458655, bold=False, align='right', value_format='no_decimals', background_color=None, font_color=None, bottom_border=None, top_border=None)])])"
      ]
     },
     "execution_count": 14,
     "metadata": {},
     "output_type": "execute_result"
    }
   ],
   "source": [
    "table = model.tables.line_items(include_name=True)\n",
    "table"
   ]
  },
  {
   "cell_type": "code",
   "execution_count": 15,
   "id": "533cfe3d",
   "metadata": {},
   "outputs": [
    {
     "data": {
      "application/vnd.plotly.v1+json": {
       "config": {
        "plotlyServerURL": "https://plot.ly"
       },
       "data": [
        {
         "hovertemplate": "<b>%{fullData.name}</b><br>Value: %{y}<br><extra></extra>",
         "line": {
          "color": "#636EFA",
          "dash": "solid",
          "width": 2
         },
         "marker": {
          "size": 6
         },
         "mode": "lines+markers",
         "type": "scatter",
         "x": [
          0,
          1,
          2,
          3,
          4,
          5,
          6,
          7,
          8,
          9,
          10,
          11,
          12,
          13,
          14,
          15,
          16,
          17,
          18,
          19,
          20,
          21,
          22,
          23,
          24,
          25,
          26,
          27,
          28
         ],
         "y": [
          1000,
          1050,
          1102.5,
          1157.625,
          1215.5062500000001,
          1276.2815625000003,
          1340.0956406250004,
          1407.1004226562504,
          1477.455443789063,
          1551.3282159785163,
          1628.8946267774422,
          1710.3393581163143,
          1795.8563260221301,
          1885.6491423232367,
          1979.9315994393985,
          2078.9281794113685,
          2182.874588381937,
          2292.018317801034,
          2406.619233691086,
          2526.9501953756403,
          2653.2977051444223,
          2785.9625904016434,
          2925.260719921726,
          3071.523755917812,
          3225.099943713703,
          3386.354940899388,
          3555.6726879443577,
          3733.4563223415757,
          3920.129138458655
         ]
        },
        {
         "hovertemplate": "<b>%{fullData.name}</b><br>Value: %{y}<br><extra></extra>",
         "line": {
          "color": "#EF553B",
          "dash": "solid",
          "width": 2
         },
         "marker": {
          "size": 6
         },
         "mode": "lines+markers",
         "type": "scatter",
         "x": [
          0,
          1,
          2,
          3,
          4,
          5,
          6,
          7,
          8,
          9,
          10,
          11,
          12,
          13,
          14,
          15,
          16,
          17,
          18,
          19,
          20,
          21,
          22,
          23,
          24,
          25,
          26,
          27,
          28
         ],
         "y": [
          100,
          100,
          100,
          100,
          100,
          100,
          100,
          100,
          100,
          100,
          100,
          100,
          100,
          100,
          100,
          100,
          100,
          100,
          100,
          100,
          100,
          100,
          100,
          100,
          100,
          100,
          100,
          100,
          100
         ]
        }
       ],
       "layout": {
        "height": 600,
        "hovermode": "x unified",
        "showlegend": true,
        "template": {
         "data": {
          "bar": [
           {
            "error_x": {
             "color": "#2a3f5f"
            },
            "error_y": {
             "color": "#2a3f5f"
            },
            "marker": {
             "line": {
              "color": "white",
              "width": 0.5
             },
             "pattern": {
              "fillmode": "overlay",
              "size": 10,
              "solidity": 0.2
             }
            },
            "type": "bar"
           }
          ],
          "barpolar": [
           {
            "marker": {
             "line": {
              "color": "white",
              "width": 0.5
             },
             "pattern": {
              "fillmode": "overlay",
              "size": 10,
              "solidity": 0.2
             }
            },
            "type": "barpolar"
           }
          ],
          "carpet": [
           {
            "aaxis": {
             "endlinecolor": "#2a3f5f",
             "gridcolor": "#C8D4E3",
             "linecolor": "#C8D4E3",
             "minorgridcolor": "#C8D4E3",
             "startlinecolor": "#2a3f5f"
            },
            "baxis": {
             "endlinecolor": "#2a3f5f",
             "gridcolor": "#C8D4E3",
             "linecolor": "#C8D4E3",
             "minorgridcolor": "#C8D4E3",
             "startlinecolor": "#2a3f5f"
            },
            "type": "carpet"
           }
          ],
          "choropleth": [
           {
            "colorbar": {
             "outlinewidth": 0,
             "ticks": ""
            },
            "type": "choropleth"
           }
          ],
          "contour": [
           {
            "colorbar": {
             "outlinewidth": 0,
             "ticks": ""
            },
            "colorscale": [
             [
              0,
              "#0d0887"
             ],
             [
              0.1111111111111111,
              "#46039f"
             ],
             [
              0.2222222222222222,
              "#7201a8"
             ],
             [
              0.3333333333333333,
              "#9c179e"
             ],
             [
              0.4444444444444444,
              "#bd3786"
             ],
             [
              0.5555555555555556,
              "#d8576b"
             ],
             [
              0.6666666666666666,
              "#ed7953"
             ],
             [
              0.7777777777777778,
              "#fb9f3a"
             ],
             [
              0.8888888888888888,
              "#fdca26"
             ],
             [
              1,
              "#f0f921"
             ]
            ],
            "type": "contour"
           }
          ],
          "contourcarpet": [
           {
            "colorbar": {
             "outlinewidth": 0,
             "ticks": ""
            },
            "type": "contourcarpet"
           }
          ],
          "heatmap": [
           {
            "colorbar": {
             "outlinewidth": 0,
             "ticks": ""
            },
            "colorscale": [
             [
              0,
              "#0d0887"
             ],
             [
              0.1111111111111111,
              "#46039f"
             ],
             [
              0.2222222222222222,
              "#7201a8"
             ],
             [
              0.3333333333333333,
              "#9c179e"
             ],
             [
              0.4444444444444444,
              "#bd3786"
             ],
             [
              0.5555555555555556,
              "#d8576b"
             ],
             [
              0.6666666666666666,
              "#ed7953"
             ],
             [
              0.7777777777777778,
              "#fb9f3a"
             ],
             [
              0.8888888888888888,
              "#fdca26"
             ],
             [
              1,
              "#f0f921"
             ]
            ],
            "type": "heatmap"
           }
          ],
          "histogram": [
           {
            "marker": {
             "pattern": {
              "fillmode": "overlay",
              "size": 10,
              "solidity": 0.2
             }
            },
            "type": "histogram"
           }
          ],
          "histogram2d": [
           {
            "colorbar": {
             "outlinewidth": 0,
             "ticks": ""
            },
            "colorscale": [
             [
              0,
              "#0d0887"
             ],
             [
              0.1111111111111111,
              "#46039f"
             ],
             [
              0.2222222222222222,
              "#7201a8"
             ],
             [
              0.3333333333333333,
              "#9c179e"
             ],
             [
              0.4444444444444444,
              "#bd3786"
             ],
             [
              0.5555555555555556,
              "#d8576b"
             ],
             [
              0.6666666666666666,
              "#ed7953"
             ],
             [
              0.7777777777777778,
              "#fb9f3a"
             ],
             [
              0.8888888888888888,
              "#fdca26"
             ],
             [
              1,
              "#f0f921"
             ]
            ],
            "type": "histogram2d"
           }
          ],
          "histogram2dcontour": [
           {
            "colorbar": {
             "outlinewidth": 0,
             "ticks": ""
            },
            "colorscale": [
             [
              0,
              "#0d0887"
             ],
             [
              0.1111111111111111,
              "#46039f"
             ],
             [
              0.2222222222222222,
              "#7201a8"
             ],
             [
              0.3333333333333333,
              "#9c179e"
             ],
             [
              0.4444444444444444,
              "#bd3786"
             ],
             [
              0.5555555555555556,
              "#d8576b"
             ],
             [
              0.6666666666666666,
              "#ed7953"
             ],
             [
              0.7777777777777778,
              "#fb9f3a"
             ],
             [
              0.8888888888888888,
              "#fdca26"
             ],
             [
              1,
              "#f0f921"
             ]
            ],
            "type": "histogram2dcontour"
           }
          ],
          "mesh3d": [
           {
            "colorbar": {
             "outlinewidth": 0,
             "ticks": ""
            },
            "type": "mesh3d"
           }
          ],
          "parcoords": [
           {
            "line": {
             "colorbar": {
              "outlinewidth": 0,
              "ticks": ""
             }
            },
            "type": "parcoords"
           }
          ],
          "pie": [
           {
            "automargin": true,
            "type": "pie"
           }
          ],
          "scatter": [
           {
            "fillpattern": {
             "fillmode": "overlay",
             "size": 10,
             "solidity": 0.2
            },
            "type": "scatter"
           }
          ],
          "scatter3d": [
           {
            "line": {
             "colorbar": {
              "outlinewidth": 0,
              "ticks": ""
             }
            },
            "marker": {
             "colorbar": {
              "outlinewidth": 0,
              "ticks": ""
             }
            },
            "type": "scatter3d"
           }
          ],
          "scattercarpet": [
           {
            "marker": {
             "colorbar": {
              "outlinewidth": 0,
              "ticks": ""
             }
            },
            "type": "scattercarpet"
           }
          ],
          "scattergeo": [
           {
            "marker": {
             "colorbar": {
              "outlinewidth": 0,
              "ticks": ""
             }
            },
            "type": "scattergeo"
           }
          ],
          "scattergl": [
           {
            "marker": {
             "colorbar": {
              "outlinewidth": 0,
              "ticks": ""
             }
            },
            "type": "scattergl"
           }
          ],
          "scattermap": [
           {
            "marker": {
             "colorbar": {
              "outlinewidth": 0,
              "ticks": ""
             }
            },
            "type": "scattermap"
           }
          ],
          "scattermapbox": [
           {
            "marker": {
             "colorbar": {
              "outlinewidth": 0,
              "ticks": ""
             }
            },
            "type": "scattermapbox"
           }
          ],
          "scatterpolar": [
           {
            "marker": {
             "colorbar": {
              "outlinewidth": 0,
              "ticks": ""
             }
            },
            "type": "scatterpolar"
           }
          ],
          "scatterpolargl": [
           {
            "marker": {
             "colorbar": {
              "outlinewidth": 0,
              "ticks": ""
             }
            },
            "type": "scatterpolargl"
           }
          ],
          "scatterternary": [
           {
            "marker": {
             "colorbar": {
              "outlinewidth": 0,
              "ticks": ""
             }
            },
            "type": "scatterternary"
           }
          ],
          "surface": [
           {
            "colorbar": {
             "outlinewidth": 0,
             "ticks": ""
            },
            "colorscale": [
             [
              0,
              "#0d0887"
             ],
             [
              0.1111111111111111,
              "#46039f"
             ],
             [
              0.2222222222222222,
              "#7201a8"
             ],
             [
              0.3333333333333333,
              "#9c179e"
             ],
             [
              0.4444444444444444,
              "#bd3786"
             ],
             [
              0.5555555555555556,
              "#d8576b"
             ],
             [
              0.6666666666666666,
              "#ed7953"
             ],
             [
              0.7777777777777778,
              "#fb9f3a"
             ],
             [
              0.8888888888888888,
              "#fdca26"
             ],
             [
              1,
              "#f0f921"
             ]
            ],
            "type": "surface"
           }
          ],
          "table": [
           {
            "cells": {
             "fill": {
              "color": "#EBF0F8"
             },
             "line": {
              "color": "white"
             }
            },
            "header": {
             "fill": {
              "color": "#C8D4E3"
             },
             "line": {
              "color": "white"
             }
            },
            "type": "table"
           }
          ]
         },
         "layout": {
          "annotationdefaults": {
           "arrowcolor": "#2a3f5f",
           "arrowhead": 0,
           "arrowwidth": 1
          },
          "autotypenumbers": "strict",
          "coloraxis": {
           "colorbar": {
            "outlinewidth": 0,
            "ticks": ""
           }
          },
          "colorscale": {
           "diverging": [
            [
             0,
             "#8e0152"
            ],
            [
             0.1,
             "#c51b7d"
            ],
            [
             0.2,
             "#de77ae"
            ],
            [
             0.3,
             "#f1b6da"
            ],
            [
             0.4,
             "#fde0ef"
            ],
            [
             0.5,
             "#f7f7f7"
            ],
            [
             0.6,
             "#e6f5d0"
            ],
            [
             0.7,
             "#b8e186"
            ],
            [
             0.8,
             "#7fbc41"
            ],
            [
             0.9,
             "#4d9221"
            ],
            [
             1,
             "#276419"
            ]
           ],
           "sequential": [
            [
             0,
             "#0d0887"
            ],
            [
             0.1111111111111111,
             "#46039f"
            ],
            [
             0.2222222222222222,
             "#7201a8"
            ],
            [
             0.3333333333333333,
             "#9c179e"
            ],
            [
             0.4444444444444444,
             "#bd3786"
            ],
            [
             0.5555555555555556,
             "#d8576b"
            ],
            [
             0.6666666666666666,
             "#ed7953"
            ],
            [
             0.7777777777777778,
             "#fb9f3a"
            ],
            [
             0.8888888888888888,
             "#fdca26"
            ],
            [
             1,
             "#f0f921"
            ]
           ],
           "sequentialminus": [
            [
             0,
             "#0d0887"
            ],
            [
             0.1111111111111111,
             "#46039f"
            ],
            [
             0.2222222222222222,
             "#7201a8"
            ],
            [
             0.3333333333333333,
             "#9c179e"
            ],
            [
             0.4444444444444444,
             "#bd3786"
            ],
            [
             0.5555555555555556,
             "#d8576b"
            ],
            [
             0.6666666666666666,
             "#ed7953"
            ],
            [
             0.7777777777777778,
             "#fb9f3a"
            ],
            [
             0.8888888888888888,
             "#fdca26"
            ],
            [
             1,
             "#f0f921"
            ]
           ]
          },
          "colorway": [
           "#636efa",
           "#EF553B",
           "#00cc96",
           "#ab63fa",
           "#FFA15A",
           "#19d3f3",
           "#FF6692",
           "#B6E880",
           "#FF97FF",
           "#FECB52"
          ],
          "font": {
           "color": "#2a3f5f"
          },
          "geo": {
           "bgcolor": "white",
           "lakecolor": "white",
           "landcolor": "white",
           "showlakes": true,
           "showland": true,
           "subunitcolor": "#C8D4E3"
          },
          "hoverlabel": {
           "align": "left"
          },
          "hovermode": "closest",
          "mapbox": {
           "style": "light"
          },
          "paper_bgcolor": "white",
          "plot_bgcolor": "white",
          "polar": {
           "angularaxis": {
            "gridcolor": "#EBF0F8",
            "linecolor": "#EBF0F8",
            "ticks": ""
           },
           "bgcolor": "white",
           "radialaxis": {
            "gridcolor": "#EBF0F8",
            "linecolor": "#EBF0F8",
            "ticks": ""
           }
          },
          "scene": {
           "xaxis": {
            "backgroundcolor": "white",
            "gridcolor": "#DFE8F3",
            "gridwidth": 2,
            "linecolor": "#EBF0F8",
            "showbackground": true,
            "ticks": "",
            "zerolinecolor": "#EBF0F8"
           },
           "yaxis": {
            "backgroundcolor": "white",
            "gridcolor": "#DFE8F3",
            "gridwidth": 2,
            "linecolor": "#EBF0F8",
            "showbackground": true,
            "ticks": "",
            "zerolinecolor": "#EBF0F8"
           },
           "zaxis": {
            "backgroundcolor": "white",
            "gridcolor": "#DFE8F3",
            "gridwidth": 2,
            "linecolor": "#EBF0F8",
            "showbackground": true,
            "ticks": "",
            "zerolinecolor": "#EBF0F8"
           }
          },
          "shapedefaults": {
           "line": {
            "color": "#2a3f5f"
           }
          },
          "ternary": {
           "aaxis": {
            "gridcolor": "#DFE8F3",
            "linecolor": "#A2B1C6",
            "ticks": ""
           },
           "baxis": {
            "gridcolor": "#DFE8F3",
            "linecolor": "#A2B1C6",
            "ticks": ""
           },
           "bgcolor": "white",
           "caxis": {
            "gridcolor": "#DFE8F3",
            "linecolor": "#A2B1C6",
            "ticks": ""
           }
          },
          "title": {
           "x": 0.05
          },
          "xaxis": {
           "automargin": true,
           "gridcolor": "#EBF0F8",
           "linecolor": "#EBF0F8",
           "ticks": "",
           "title": {
            "standoff": 15
           },
           "zerolinecolor": "#EBF0F8",
           "zerolinewidth": 2
          },
          "yaxis": {
           "automargin": true,
           "gridcolor": "#EBF0F8",
           "linecolor": "#EBF0F8",
           "ticks": "",
           "title": {
            "standoff": 15
           },
           "zerolinecolor": "#EBF0F8",
           "zerolinewidth": 2
          }
         }
        },
        "title": {
         "text": "Revenue and Expenses Over Time",
         "x": 0.5,
         "xanchor": "center"
        },
        "width": 800,
        "xaxis": {
         "tickmode": "array",
         "ticktext": [
          "2022",
          "2023",
          "2024",
          "2025",
          "2026",
          "2027",
          "2028",
          "2029",
          "2030",
          "2031",
          "2032",
          "2033",
          "2034",
          "2035",
          "2036",
          "2037",
          "2038",
          "2039",
          "2040",
          "2041",
          "2042",
          "2043",
          "2044",
          "2045",
          "2046",
          "2047",
          "2048",
          "2049",
          "2050"
         ],
         "tickvals": [
          0,
          1,
          2,
          3,
          4,
          5,
          6,
          7,
          8,
          9,
          10,
          11,
          12,
          13,
          14,
          15,
          16,
          17,
          18,
          19,
          20,
          21,
          22,
          23,
          24,
          25,
          26,
          27,
          28
         ],
         "title": {
          "text": ""
         }
        },
        "yaxis": {
         "tickformat": ",.0f",
         "title": {
          "text": ""
         }
        }
       }
      }
     },
     "metadata": {},
     "output_type": "display_data"
    }
   ],
   "source": [
    "fig = model.charts.line_items(\n",
    "    [\"Revenue\", \"Expenses\"], title=\"Revenue and Expenses Over Time\"\n",
    ")\n",
    "fig.show()"
   ]
  },
  {
   "cell_type": "code",
   "execution_count": null,
   "id": "2c607cb6",
   "metadata": {},
   "outputs": [],
   "source": []
  }
 ],
 "metadata": {
  "kernelspec": {
   "display_name": "pyproforma-Y6ydOEXX-py3.12",
   "language": "python",
   "name": "python3"
  },
  "language_info": {
   "codemirror_mode": {
    "name": "ipython",
    "version": 3
   },
   "file_extension": ".py",
   "mimetype": "text/x-python",
   "name": "python",
   "nbconvert_exporter": "python",
   "pygments_lexer": "ipython3",
   "version": "3.12.3"
  }
 },
 "nbformat": 4,
 "nbformat_minor": 5
}
