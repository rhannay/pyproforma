{
 "cells": [
  {
   "cell_type": "code",
   "execution_count": null,
   "id": "c298b7c3",
   "metadata": {},
   "outputs": [],
   "source": [
    "# Configure Plotly for mkdocs-jupyter rendering\n",
    "import plotly.io as pio\n",
    "import plotly.offline as pyo\n",
    "\n",
    "# Set renderer to handle notebook display and static fallback\n",
    "pio.renderers.default = \"notebook\"\n",
    "\n",
    "# For mkdocs-jupyter, also configure static image fallback\n",
    "import os\n",
    "if 'MKDOCS' in os.environ or 'CI' in os.environ:\n",
    "    pio.renderers.default = \"png\"\n",
    "    \n",
    "# Ensure kaleido is available for image export\n",
    "try:\n",
    "    import kaleido\n",
    "    print(\"✓ Kaleido available for static image generation\")\n",
    "except ImportError:\n",
    "    print(\"⚠ Kaleido not found - install with: pip install kaleido\")\n",
    "\n",
    "print(\"Plotly configured for documentation rendering\")"
   ]
  },
  {
   "cell_type": "markdown",
   "id": "1c0a0eff",
   "metadata": {},
   "source": [
    "# PyProforma Basic Usage\n",
    "\n",
    "This notebook demonstrates the fundamental operations and concepts in PyProforma, including model creation, table generation, and chart visualization."
   ]
  },
  {
   "cell_type": "markdown",
   "id": "2886d4ad",
   "metadata": {},
   "source": [
    "## Creating a Model\n",
    "\n",
    "Start by importing the required classes and creating line items and a model:"
   ]
  },
  {
   "cell_type": "code",
   "execution_count": 6,
   "id": "504432d0",
   "metadata": {},
   "outputs": [
    {
     "name": "stdout",
     "output_type": "stream",
     "text": [
      "Simple P&L model created successfully!\n",
      "Revenue 2024: $146,410\n",
      "Expenses 2024: $100,000\n",
      "Net Income 2024: $46,410.0\n"
     ]
    }
   ],
   "source": [
    "from pyproforma import Model, LineItem\n",
    "from pyproforma import row_types as rt\n",
    "\n",
    "years = [2022, 2023, 2024]\n",
    "\n",
    "revenue = LineItem(\n",
    "    name=\"revenue\",\n",
    "    label=\"Revenue\",\n",
    "    category=\"income\",\n",
    "    values={\n",
    "        2022: 121000, \n",
    "        2023: 133100,\n",
    "        2024: 146410\n",
    "    }\n",
    ")\n",
    "\n",
    "expense = LineItem(\n",
    "    name=\"expenses\", \n",
    "    label=\"Expenses\",\n",
    "    category=\"costs\",\n",
    "    values={\n",
    "        2022: 90000,\n",
    "        2023: 95000, \n",
    "        2024: 100000\n",
    "    }\n",
    ")\n",
    "\n",
    "net_income = LineItem(\n",
    "    name=\"net_income\",\n",
    "    label=\"Net Income\",\n",
    "    category=\"calculation\", \n",
    "    formula=\"revenue - expenses\"\n",
    ")\n",
    "\n",
    "model = Model(\n",
    "    line_items=[revenue, expense, net_income],\n",
    "    years=years\n",
    ")\n",
    "\n",
    "print(\"Simple P&L model created successfully!\")\n",
    "print(f\"Revenue 2024: ${model.get_value('revenue', 2024):,}\")\n",
    "print(f\"Expenses 2024: ${model.get_value('expenses', 2024):,}\")\n",
    "print(f\"Net Income 2024: ${model.get_value('net_income', 2024):,}\")"
   ]
  },
  {
   "cell_type": "markdown",
   "id": "13478306",
   "metadata": {},
   "source": [
    "## Creating Tables\n",
    "\n",
    "PyProforma makes it easy to generate formatted tables from your model data. Use the `tables` namespace to create various types of tables.\n",
    "\n",
    "### Method 1: Line Items Table\n",
    "\n",
    "Generate a table showing all line items organized by category:"
   ]
  },
  {
   "cell_type": "code",
   "execution_count": 7,
   "id": "1d4c9e47",
   "metadata": {},
   "outputs": [
    {
     "data": {
      "text/html": [
       "<style type=\"text/css\">\n",
       "#T_b3e81_row0_col0, #T_b3e81_row2_col0, #T_b3e81_row3_col0, #T_b3e81_row5_col0, #T_b3e81_row6_col0, #T_b3e81_row8_col0 {\n",
       "  font-weight: bold;\n",
       "  text-align: left;\n",
       "}\n",
       "#T_b3e81_row0_col1, #T_b3e81_row0_col2, #T_b3e81_row0_col3, #T_b3e81_row1_col1, #T_b3e81_row1_col2, #T_b3e81_row1_col3, #T_b3e81_row3_col1, #T_b3e81_row3_col2, #T_b3e81_row3_col3, #T_b3e81_row4_col1, #T_b3e81_row4_col2, #T_b3e81_row4_col3, #T_b3e81_row6_col1, #T_b3e81_row6_col2, #T_b3e81_row6_col3, #T_b3e81_row7_col1, #T_b3e81_row7_col2, #T_b3e81_row7_col3 {\n",
       "  text-align: right;\n",
       "}\n",
       "#T_b3e81_row1_col0, #T_b3e81_row4_col0, #T_b3e81_row7_col0 {\n",
       "  text-align: left;\n",
       "}\n",
       "#T_b3e81_row2_col1, #T_b3e81_row2_col2, #T_b3e81_row2_col3, #T_b3e81_row5_col1, #T_b3e81_row5_col2, #T_b3e81_row5_col3, #T_b3e81_row8_col1, #T_b3e81_row8_col2, #T_b3e81_row8_col3 {\n",
       "  font-weight: bold;\n",
       "  text-align: right;\n",
       "}\n",
       "</style>\n",
       "<table id=\"T_b3e81\">\n",
       "  <thead>\n",
       "    <tr>\n",
       "      <th class=\"blank level0\" >&nbsp;</th>\n",
       "      <th id=\"T_b3e81_level0_col0\" class=\"col_heading level0 col0\" >Year</th>\n",
       "      <th id=\"T_b3e81_level0_col1\" class=\"col_heading level0 col1\" >2022</th>\n",
       "      <th id=\"T_b3e81_level0_col2\" class=\"col_heading level0 col2\" >2023</th>\n",
       "      <th id=\"T_b3e81_level0_col3\" class=\"col_heading level0 col3\" >2024</th>\n",
       "    </tr>\n",
       "  </thead>\n",
       "  <tbody>\n",
       "    <tr>\n",
       "      <th id=\"T_b3e81_level0_row0\" class=\"row_heading level0 row0\" >0</th>\n",
       "      <td id=\"T_b3e81_row0_col0\" class=\"data row0 col0\" >costs</td>\n",
       "      <td id=\"T_b3e81_row0_col1\" class=\"data row0 col1\" ></td>\n",
       "      <td id=\"T_b3e81_row0_col2\" class=\"data row0 col2\" ></td>\n",
       "      <td id=\"T_b3e81_row0_col3\" class=\"data row0 col3\" ></td>\n",
       "    </tr>\n",
       "    <tr>\n",
       "      <th id=\"T_b3e81_level0_row1\" class=\"row_heading level0 row1\" >1</th>\n",
       "      <td id=\"T_b3e81_row1_col0\" class=\"data row1 col0\" >Expenses</td>\n",
       "      <td id=\"T_b3e81_row1_col1\" class=\"data row1 col1\" >90,000</td>\n",
       "      <td id=\"T_b3e81_row1_col2\" class=\"data row1 col2\" >95,000</td>\n",
       "      <td id=\"T_b3e81_row1_col3\" class=\"data row1 col3\" >100,000</td>\n",
       "    </tr>\n",
       "    <tr>\n",
       "      <th id=\"T_b3e81_level0_row2\" class=\"row_heading level0 row2\" >2</th>\n",
       "      <td id=\"T_b3e81_row2_col0\" class=\"data row2 col0\" >Total costs</td>\n",
       "      <td id=\"T_b3e81_row2_col1\" class=\"data row2 col1\" >90,000</td>\n",
       "      <td id=\"T_b3e81_row2_col2\" class=\"data row2 col2\" >95,000</td>\n",
       "      <td id=\"T_b3e81_row2_col3\" class=\"data row2 col3\" >100,000</td>\n",
       "    </tr>\n",
       "    <tr>\n",
       "      <th id=\"T_b3e81_level0_row3\" class=\"row_heading level0 row3\" >3</th>\n",
       "      <td id=\"T_b3e81_row3_col0\" class=\"data row3 col0\" >income</td>\n",
       "      <td id=\"T_b3e81_row3_col1\" class=\"data row3 col1\" ></td>\n",
       "      <td id=\"T_b3e81_row3_col2\" class=\"data row3 col2\" ></td>\n",
       "      <td id=\"T_b3e81_row3_col3\" class=\"data row3 col3\" ></td>\n",
       "    </tr>\n",
       "    <tr>\n",
       "      <th id=\"T_b3e81_level0_row4\" class=\"row_heading level0 row4\" >4</th>\n",
       "      <td id=\"T_b3e81_row4_col0\" class=\"data row4 col0\" >Revenue</td>\n",
       "      <td id=\"T_b3e81_row4_col1\" class=\"data row4 col1\" >121,000</td>\n",
       "      <td id=\"T_b3e81_row4_col2\" class=\"data row4 col2\" >133,100</td>\n",
       "      <td id=\"T_b3e81_row4_col3\" class=\"data row4 col3\" >146,410</td>\n",
       "    </tr>\n",
       "    <tr>\n",
       "      <th id=\"T_b3e81_level0_row5\" class=\"row_heading level0 row5\" >5</th>\n",
       "      <td id=\"T_b3e81_row5_col0\" class=\"data row5 col0\" >Total income</td>\n",
       "      <td id=\"T_b3e81_row5_col1\" class=\"data row5 col1\" >121,000</td>\n",
       "      <td id=\"T_b3e81_row5_col2\" class=\"data row5 col2\" >133,100</td>\n",
       "      <td id=\"T_b3e81_row5_col3\" class=\"data row5 col3\" >146,410</td>\n",
       "    </tr>\n",
       "    <tr>\n",
       "      <th id=\"T_b3e81_level0_row6\" class=\"row_heading level0 row6\" >6</th>\n",
       "      <td id=\"T_b3e81_row6_col0\" class=\"data row6 col0\" >calculation</td>\n",
       "      <td id=\"T_b3e81_row6_col1\" class=\"data row6 col1\" ></td>\n",
       "      <td id=\"T_b3e81_row6_col2\" class=\"data row6 col2\" ></td>\n",
       "      <td id=\"T_b3e81_row6_col3\" class=\"data row6 col3\" ></td>\n",
       "    </tr>\n",
       "    <tr>\n",
       "      <th id=\"T_b3e81_level0_row7\" class=\"row_heading level0 row7\" >7</th>\n",
       "      <td id=\"T_b3e81_row7_col0\" class=\"data row7 col0\" >Net Income</td>\n",
       "      <td id=\"T_b3e81_row7_col1\" class=\"data row7 col1\" >31,000</td>\n",
       "      <td id=\"T_b3e81_row7_col2\" class=\"data row7 col2\" >38,100</td>\n",
       "      <td id=\"T_b3e81_row7_col3\" class=\"data row7 col3\" >46,410</td>\n",
       "    </tr>\n",
       "    <tr>\n",
       "      <th id=\"T_b3e81_level0_row8\" class=\"row_heading level0 row8\" >8</th>\n",
       "      <td id=\"T_b3e81_row8_col0\" class=\"data row8 col0\" >Total calculation</td>\n",
       "      <td id=\"T_b3e81_row8_col1\" class=\"data row8 col1\" >31,000</td>\n",
       "      <td id=\"T_b3e81_row8_col2\" class=\"data row8 col2\" >38,100</td>\n",
       "      <td id=\"T_b3e81_row8_col3\" class=\"data row8 col3\" >46,410</td>\n",
       "    </tr>\n",
       "  </tbody>\n",
       "</table>\n"
      ],
      "text/plain": [
       "Table(columns=[Column(label='Year'), Column(label='2022'), Column(label='2023'), Column(label='2024')], rows=[Row(cells=[Cell(value='costs', bold=True, align='left', value_format=None, background_color=None), Cell(value='', bold=False, align='right', value_format=None, background_color=None), Cell(value='', bold=False, align='right', value_format=None, background_color=None), Cell(value='', bold=False, align='right', value_format=None, background_color=None)]), Row(cells=[Cell(value='Expenses', bold=False, align='left', value_format=None, background_color=None), Cell(value=90000, bold=False, align='right', value_format='no_decimals', background_color=None), Cell(value=95000, bold=False, align='right', value_format='no_decimals', background_color=None), Cell(value=100000, bold=False, align='right', value_format='no_decimals', background_color=None)]), Row(cells=[Cell(value='Total costs', bold=True, align='left', value_format=None, background_color=None), Cell(value=90000, bold=True, align='right', value_format='no_decimals', background_color=None), Cell(value=95000, bold=True, align='right', value_format='no_decimals', background_color=None), Cell(value=100000, bold=True, align='right', value_format='no_decimals', background_color=None)]), Row(cells=[Cell(value='income', bold=True, align='left', value_format=None, background_color=None), Cell(value='', bold=False, align='right', value_format=None, background_color=None), Cell(value='', bold=False, align='right', value_format=None, background_color=None), Cell(value='', bold=False, align='right', value_format=None, background_color=None)]), Row(cells=[Cell(value='Revenue', bold=False, align='left', value_format=None, background_color=None), Cell(value=121000, bold=False, align='right', value_format='no_decimals', background_color=None), Cell(value=133100, bold=False, align='right', value_format='no_decimals', background_color=None), Cell(value=146410, bold=False, align='right', value_format='no_decimals', background_color=None)]), Row(cells=[Cell(value='Total income', bold=True, align='left', value_format=None, background_color=None), Cell(value=121000, bold=True, align='right', value_format='no_decimals', background_color=None), Cell(value=133100, bold=True, align='right', value_format='no_decimals', background_color=None), Cell(value=146410, bold=True, align='right', value_format='no_decimals', background_color=None)]), Row(cells=[Cell(value='calculation', bold=True, align='left', value_format=None, background_color=None), Cell(value='', bold=False, align='right', value_format=None, background_color=None), Cell(value='', bold=False, align='right', value_format=None, background_color=None), Cell(value='', bold=False, align='right', value_format=None, background_color=None)]), Row(cells=[Cell(value='Net Income', bold=False, align='left', value_format=None, background_color=None), Cell(value=31000.0, bold=False, align='right', value_format='no_decimals', background_color=None), Cell(value=38100.0, bold=False, align='right', value_format='no_decimals', background_color=None), Cell(value=46410.0, bold=False, align='right', value_format='no_decimals', background_color=None)]), Row(cells=[Cell(value='Total calculation', bold=True, align='left', value_format=None, background_color=None), Cell(value=31000.0, bold=True, align='right', value_format='no_decimals', background_color=None), Cell(value=38100.0, bold=True, align='right', value_format='no_decimals', background_color=None), Cell(value=46410.0, bold=True, align='right', value_format='no_decimals', background_color=None)])])"
      ]
     },
     "execution_count": 7,
     "metadata": {},
     "output_type": "execute_result"
    }
   ],
   "source": [
    "# Display all line items organized by category\n",
    "table = model.tables.line_items()\n",
    "table"
   ]
  },
  {
   "cell_type": "markdown",
   "id": "3048e336",
   "metadata": {},
   "source": [
    "### Method 2: Custom Template\n",
    "\n",
    "Create a custom table using row types:"
   ]
  },
  {
   "cell_type": "code",
   "execution_count": 8,
   "id": "68222734",
   "metadata": {},
   "outputs": [
    {
     "data": {
      "text/html": [
       "<style type=\"text/css\">\n",
       "#T_35318_row0_col0, #T_35318_row1_col0 {\n",
       "  text-align: left;\n",
       "}\n",
       "#T_35318_row0_col1, #T_35318_row0_col2, #T_35318_row0_col3, #T_35318_row1_col1, #T_35318_row1_col2, #T_35318_row1_col3 {\n",
       "  text-align: right;\n",
       "}\n",
       "#T_35318_row2_col0 {\n",
       "  font-weight: bold;\n",
       "  text-align: left;\n",
       "}\n",
       "#T_35318_row2_col1, #T_35318_row2_col2, #T_35318_row2_col3 {\n",
       "  font-weight: bold;\n",
       "  text-align: right;\n",
       "}\n",
       "</style>\n",
       "<table id=\"T_35318\">\n",
       "  <thead>\n",
       "    <tr>\n",
       "      <th class=\"blank level0\" >&nbsp;</th>\n",
       "      <th id=\"T_35318_level0_col0\" class=\"col_heading level0 col0\" >Year</th>\n",
       "      <th id=\"T_35318_level0_col1\" class=\"col_heading level0 col1\" >2022</th>\n",
       "      <th id=\"T_35318_level0_col2\" class=\"col_heading level0 col2\" >2023</th>\n",
       "      <th id=\"T_35318_level0_col3\" class=\"col_heading level0 col3\" >2024</th>\n",
       "    </tr>\n",
       "  </thead>\n",
       "  <tbody>\n",
       "    <tr>\n",
       "      <th id=\"T_35318_level0_row0\" class=\"row_heading level0 row0\" >0</th>\n",
       "      <td id=\"T_35318_row0_col0\" class=\"data row0 col0\" >Revenue</td>\n",
       "      <td id=\"T_35318_row0_col1\" class=\"data row0 col1\" >121,000</td>\n",
       "      <td id=\"T_35318_row0_col2\" class=\"data row0 col2\" >133,100</td>\n",
       "      <td id=\"T_35318_row0_col3\" class=\"data row0 col3\" >146,410</td>\n",
       "    </tr>\n",
       "    <tr>\n",
       "      <th id=\"T_35318_level0_row1\" class=\"row_heading level0 row1\" >1</th>\n",
       "      <td id=\"T_35318_row1_col0\" class=\"data row1 col0\" >Expenses</td>\n",
       "      <td id=\"T_35318_row1_col1\" class=\"data row1 col1\" >90,000</td>\n",
       "      <td id=\"T_35318_row1_col2\" class=\"data row1 col2\" >95,000</td>\n",
       "      <td id=\"T_35318_row1_col3\" class=\"data row1 col3\" >100,000</td>\n",
       "    </tr>\n",
       "    <tr>\n",
       "      <th id=\"T_35318_level0_row2\" class=\"row_heading level0 row2\" >2</th>\n",
       "      <td id=\"T_35318_row2_col0\" class=\"data row2 col0\" >Net Income</td>\n",
       "      <td id=\"T_35318_row2_col1\" class=\"data row2 col1\" >31,000</td>\n",
       "      <td id=\"T_35318_row2_col2\" class=\"data row2 col2\" >38,100</td>\n",
       "      <td id=\"T_35318_row2_col3\" class=\"data row2 col3\" >46,410</td>\n",
       "    </tr>\n",
       "  </tbody>\n",
       "</table>\n"
      ],
      "text/plain": [
       "Table(columns=[Column(label='Year'), Column(label='2022'), Column(label='2023'), Column(label='2024')], rows=[Row(cells=[Cell(value='Revenue', bold=False, align='left', value_format=None, background_color=None), Cell(value=121000, bold=False, align='right', value_format='no_decimals', background_color=None), Cell(value=133100, bold=False, align='right', value_format='no_decimals', background_color=None), Cell(value=146410, bold=False, align='right', value_format='no_decimals', background_color=None)]), Row(cells=[Cell(value='Expenses', bold=False, align='left', value_format=None, background_color=None), Cell(value=90000, bold=False, align='right', value_format='no_decimals', background_color=None), Cell(value=95000, bold=False, align='right', value_format='no_decimals', background_color=None), Cell(value=100000, bold=False, align='right', value_format='no_decimals', background_color=None)]), Row(cells=[Cell(value='Net Income', bold=True, align='left', value_format=None, background_color=None), Cell(value=31000.0, bold=True, align='right', value_format='no_decimals', background_color=None), Cell(value=38100.0, bold=True, align='right', value_format='no_decimals', background_color=None), Cell(value=46410.0, bold=True, align='right', value_format='no_decimals', background_color=None)])])"
      ]
     },
     "execution_count": 8,
     "metadata": {},
     "output_type": "execute_result"
    }
   ],
   "source": [
    "template = [\n",
    "    rt.ItemRow('revenue'),    \n",
    "    rt.ItemRow('expenses'),\n",
    "    rt.ItemRow('net_income', bold=True),\n",
    "]\n",
    "\n",
    "# Create table from template\n",
    "custom_table = model.tables.from_template(template)\n",
    "custom_table"
   ]
  },
  {
   "cell_type": "markdown",
   "id": "d2f41440",
   "metadata": {},
   "source": [
    "## Creating Charts\n",
    "\n",
    "PyProforma also provides interactive chart capabilities using the `charts` namespace. You can create visualizations of your model data:"
   ]
  },
  {
   "cell_type": "code",
   "execution_count": null,
   "id": "30ecd2eb",
   "metadata": {},
   "outputs": [
    {
     "data": {
      "application/vnd.plotly.v1+json": {
       "config": {
        "plotlyServerURL": "https://plot.ly"
       },
       "data": [
        {
         "hovertemplate": "<b>%{fullData.name}</b><br>Value: %{y}<br><extra></extra>",
         "line": {
          "color": "#636EFA",
          "dash": "solid",
          "width": 2
         },
         "marker": {
          "size": 6
         },
         "mode": "lines+markers",
         "name": "Revenue",
         "type": "scatter",
         "x": [
          0,
          1,
          2
         ],
         "y": [
          121000,
          133100,
          146410
         ]
        },
        {
         "hovertemplate": "<b>%{fullData.name}</b><br>Value: %{y}<br><extra></extra>",
         "line": {
          "color": "#EF553B",
          "dash": "solid",
          "width": 2
         },
         "marker": {
          "size": 6
         },
         "mode": "lines+markers",
         "name": "Expenses",
         "type": "scatter",
         "x": [
          0,
          1,
          2
         ],
         "y": [
          90000,
          95000,
          100000
         ]
        }
       ],
       "layout": {
        "height": 600,
        "hovermode": "x unified",
        "showlegend": true,
        "template": {
         "data": {
          "bar": [
           {
            "error_x": {
             "color": "#2a3f5f"
            },
            "error_y": {
             "color": "#2a3f5f"
            },
            "marker": {
             "line": {
              "color": "white",
              "width": 0.5
             },
             "pattern": {
              "fillmode": "overlay",
              "size": 10,
              "solidity": 0.2
             }
            },
            "type": "bar"
           }
          ],
          "barpolar": [
           {
            "marker": {
             "line": {
              "color": "white",
              "width": 0.5
             },
             "pattern": {
              "fillmode": "overlay",
              "size": 10,
              "solidity": 0.2
             }
            },
            "type": "barpolar"
           }
          ],
          "carpet": [
           {
            "aaxis": {
             "endlinecolor": "#2a3f5f",
             "gridcolor": "#C8D4E3",
             "linecolor": "#C8D4E3",
             "minorgridcolor": "#C8D4E3",
             "startlinecolor": "#2a3f5f"
            },
            "baxis": {
             "endlinecolor": "#2a3f5f",
             "gridcolor": "#C8D4E3",
             "linecolor": "#C8D4E3",
             "minorgridcolor": "#C8D4E3",
             "startlinecolor": "#2a3f5f"
            },
            "type": "carpet"
           }
          ],
          "choropleth": [
           {
            "colorbar": {
             "outlinewidth": 0,
             "ticks": ""
            },
            "type": "choropleth"
           }
          ],
          "contour": [
           {
            "colorbar": {
             "outlinewidth": 0,
             "ticks": ""
            },
            "colorscale": [
             [
              0,
              "#0d0887"
             ],
             [
              0.1111111111111111,
              "#46039f"
             ],
             [
              0.2222222222222222,
              "#7201a8"
             ],
             [
              0.3333333333333333,
              "#9c179e"
             ],
             [
              0.4444444444444444,
              "#bd3786"
             ],
             [
              0.5555555555555556,
              "#d8576b"
             ],
             [
              0.6666666666666666,
              "#ed7953"
             ],
             [
              0.7777777777777778,
              "#fb9f3a"
             ],
             [
              0.8888888888888888,
              "#fdca26"
             ],
             [
              1,
              "#f0f921"
             ]
            ],
            "type": "contour"
           }
          ],
          "contourcarpet": [
           {
            "colorbar": {
             "outlinewidth": 0,
             "ticks": ""
            },
            "type": "contourcarpet"
           }
          ],
          "heatmap": [
           {
            "colorbar": {
             "outlinewidth": 0,
             "ticks": ""
            },
            "colorscale": [
             [
              0,
              "#0d0887"
             ],
             [
              0.1111111111111111,
              "#46039f"
             ],
             [
              0.2222222222222222,
              "#7201a8"
             ],
             [
              0.3333333333333333,
              "#9c179e"
             ],
             [
              0.4444444444444444,
              "#bd3786"
             ],
             [
              0.5555555555555556,
              "#d8576b"
             ],
             [
              0.6666666666666666,
              "#ed7953"
             ],
             [
              0.7777777777777778,
              "#fb9f3a"
             ],
             [
              0.8888888888888888,
              "#fdca26"
             ],
             [
              1,
              "#f0f921"
             ]
            ],
            "type": "heatmap"
           }
          ],
          "histogram": [
           {
            "marker": {
             "pattern": {
              "fillmode": "overlay",
              "size": 10,
              "solidity": 0.2
             }
            },
            "type": "histogram"
           }
          ],
          "histogram2d": [
           {
            "colorbar": {
             "outlinewidth": 0,
             "ticks": ""
            },
            "colorscale": [
             [
              0,
              "#0d0887"
             ],
             [
              0.1111111111111111,
              "#46039f"
             ],
             [
              0.2222222222222222,
              "#7201a8"
             ],
             [
              0.3333333333333333,
              "#9c179e"
             ],
             [
              0.4444444444444444,
              "#bd3786"
             ],
             [
              0.5555555555555556,
              "#d8576b"
             ],
             [
              0.6666666666666666,
              "#ed7953"
             ],
             [
              0.7777777777777778,
              "#fb9f3a"
             ],
             [
              0.8888888888888888,
              "#fdca26"
             ],
             [
              1,
              "#f0f921"
             ]
            ],
            "type": "histogram2d"
           }
          ],
          "histogram2dcontour": [
           {
            "colorbar": {
             "outlinewidth": 0,
             "ticks": ""
            },
            "colorscale": [
             [
              0,
              "#0d0887"
             ],
             [
              0.1111111111111111,
              "#46039f"
             ],
             [
              0.2222222222222222,
              "#7201a8"
             ],
             [
              0.3333333333333333,
              "#9c179e"
             ],
             [
              0.4444444444444444,
              "#bd3786"
             ],
             [
              0.5555555555555556,
              "#d8576b"
             ],
             [
              0.6666666666666666,
              "#ed7953"
             ],
             [
              0.7777777777777778,
              "#fb9f3a"
             ],
             [
              0.8888888888888888,
              "#fdca26"
             ],
             [
              1,
              "#f0f921"
             ]
            ],
            "type": "histogram2dcontour"
           }
          ],
          "mesh3d": [
           {
            "colorbar": {
             "outlinewidth": 0,
             "ticks": ""
            },
            "type": "mesh3d"
           }
          ],
          "parcoords": [
           {
            "line": {
             "colorbar": {
              "outlinewidth": 0,
              "ticks": ""
             }
            },
            "type": "parcoords"
           }
          ],
          "pie": [
           {
            "automargin": true,
            "type": "pie"
           }
          ],
          "scatter": [
           {
            "fillpattern": {
             "fillmode": "overlay",
             "size": 10,
             "solidity": 0.2
            },
            "type": "scatter"
           }
          ],
          "scatter3d": [
           {
            "line": {
             "colorbar": {
              "outlinewidth": 0,
              "ticks": ""
             }
            },
            "marker": {
             "colorbar": {
              "outlinewidth": 0,
              "ticks": ""
             }
            },
            "type": "scatter3d"
           }
          ],
          "scattercarpet": [
           {
            "marker": {
             "colorbar": {
              "outlinewidth": 0,
              "ticks": ""
             }
            },
            "type": "scattercarpet"
           }
          ],
          "scattergeo": [
           {
            "marker": {
             "colorbar": {
              "outlinewidth": 0,
              "ticks": ""
             }
            },
            "type": "scattergeo"
           }
          ],
          "scattergl": [
           {
            "marker": {
             "colorbar": {
              "outlinewidth": 0,
              "ticks": ""
             }
            },
            "type": "scattergl"
           }
          ],
          "scattermap": [
           {
            "marker": {
             "colorbar": {
              "outlinewidth": 0,
              "ticks": ""
             }
            },
            "type": "scattermap"
           }
          ],
          "scattermapbox": [
           {
            "marker": {
             "colorbar": {
              "outlinewidth": 0,
              "ticks": ""
             }
            },
            "type": "scattermapbox"
           }
          ],
          "scatterpolar": [
           {
            "marker": {
             "colorbar": {
              "outlinewidth": 0,
              "ticks": ""
             }
            },
            "type": "scatterpolar"
           }
          ],
          "scatterpolargl": [
           {
            "marker": {
             "colorbar": {
              "outlinewidth": 0,
              "ticks": ""
             }
            },
            "type": "scatterpolargl"
           }
          ],
          "scatterternary": [
           {
            "marker": {
             "colorbar": {
              "outlinewidth": 0,
              "ticks": ""
             }
            },
            "type": "scatterternary"
           }
          ],
          "surface": [
           {
            "colorbar": {
             "outlinewidth": 0,
             "ticks": ""
            },
            "colorscale": [
             [
              0,
              "#0d0887"
             ],
             [
              0.1111111111111111,
              "#46039f"
             ],
             [
              0.2222222222222222,
              "#7201a8"
             ],
             [
              0.3333333333333333,
              "#9c179e"
             ],
             [
              0.4444444444444444,
              "#bd3786"
             ],
             [
              0.5555555555555556,
              "#d8576b"
             ],
             [
              0.6666666666666666,
              "#ed7953"
             ],
             [
              0.7777777777777778,
              "#fb9f3a"
             ],
             [
              0.8888888888888888,
              "#fdca26"
             ],
             [
              1,
              "#f0f921"
             ]
            ],
            "type": "surface"
           }
          ],
          "table": [
           {
            "cells": {
             "fill": {
              "color": "#EBF0F8"
             },
             "line": {
              "color": "white"
             }
            },
            "header": {
             "fill": {
              "color": "#C8D4E3"
             },
             "line": {
              "color": "white"
             }
            },
            "type": "table"
           }
          ]
         },
         "layout": {
          "annotationdefaults": {
           "arrowcolor": "#2a3f5f",
           "arrowhead": 0,
           "arrowwidth": 1
          },
          "autotypenumbers": "strict",
          "coloraxis": {
           "colorbar": {
            "outlinewidth": 0,
            "ticks": ""
           }
          },
          "colorscale": {
           "diverging": [
            [
             0,
             "#8e0152"
            ],
            [
             0.1,
             "#c51b7d"
            ],
            [
             0.2,
             "#de77ae"
            ],
            [
             0.3,
             "#f1b6da"
            ],
            [
             0.4,
             "#fde0ef"
            ],
            [
             0.5,
             "#f7f7f7"
            ],
            [
             0.6,
             "#e6f5d0"
            ],
            [
             0.7,
             "#b8e186"
            ],
            [
             0.8,
             "#7fbc41"
            ],
            [
             0.9,
             "#4d9221"
            ],
            [
             1,
             "#276419"
            ]
           ],
           "sequential": [
            [
             0,
             "#0d0887"
            ],
            [
             0.1111111111111111,
             "#46039f"
            ],
            [
             0.2222222222222222,
             "#7201a8"
            ],
            [
             0.3333333333333333,
             "#9c179e"
            ],
            [
             0.4444444444444444,
             "#bd3786"
            ],
            [
             0.5555555555555556,
             "#d8576b"
            ],
            [
             0.6666666666666666,
             "#ed7953"
            ],
            [
             0.7777777777777778,
             "#fb9f3a"
            ],
            [
             0.8888888888888888,
             "#fdca26"
            ],
            [
             1,
             "#f0f921"
            ]
           ],
           "sequentialminus": [
            [
             0,
             "#0d0887"
            ],
            [
             0.1111111111111111,
             "#46039f"
            ],
            [
             0.2222222222222222,
             "#7201a8"
            ],
            [
             0.3333333333333333,
             "#9c179e"
            ],
            [
             0.4444444444444444,
             "#bd3786"
            ],
            [
             0.5555555555555556,
             "#d8576b"
            ],
            [
             0.6666666666666666,
             "#ed7953"
            ],
            [
             0.7777777777777778,
             "#fb9f3a"
            ],
            [
             0.8888888888888888,
             "#fdca26"
            ],
            [
             1,
             "#f0f921"
            ]
           ]
          },
          "colorway": [
           "#636efa",
           "#EF553B",
           "#00cc96",
           "#ab63fa",
           "#FFA15A",
           "#19d3f3",
           "#FF6692",
           "#B6E880",
           "#FF97FF",
           "#FECB52"
          ],
          "font": {
           "color": "#2a3f5f"
          },
          "geo": {
           "bgcolor": "white",
           "lakecolor": "white",
           "landcolor": "white",
           "showlakes": true,
           "showland": true,
           "subunitcolor": "#C8D4E3"
          },
          "hoverlabel": {
           "align": "left"
          },
          "hovermode": "closest",
          "mapbox": {
           "style": "light"
          },
          "paper_bgcolor": "white",
          "plot_bgcolor": "white",
          "polar": {
           "angularaxis": {
            "gridcolor": "#EBF0F8",
            "linecolor": "#EBF0F8",
            "ticks": ""
           },
           "bgcolor": "white",
           "radialaxis": {
            "gridcolor": "#EBF0F8",
            "linecolor": "#EBF0F8",
            "ticks": ""
           }
          },
          "scene": {
           "xaxis": {
            "backgroundcolor": "white",
            "gridcolor": "#DFE8F3",
            "gridwidth": 2,
            "linecolor": "#EBF0F8",
            "showbackground": true,
            "ticks": "",
            "zerolinecolor": "#EBF0F8"
           },
           "yaxis": {
            "backgroundcolor": "white",
            "gridcolor": "#DFE8F3",
            "gridwidth": 2,
            "linecolor": "#EBF0F8",
            "showbackground": true,
            "ticks": "",
            "zerolinecolor": "#EBF0F8"
           },
           "zaxis": {
            "backgroundcolor": "white",
            "gridcolor": "#DFE8F3",
            "gridwidth": 2,
            "linecolor": "#EBF0F8",
            "showbackground": true,
            "ticks": "",
            "zerolinecolor": "#EBF0F8"
           }
          },
          "shapedefaults": {
           "line": {
            "color": "#2a3f5f"
           }
          },
          "ternary": {
           "aaxis": {
            "gridcolor": "#DFE8F3",
            "linecolor": "#A2B1C6",
            "ticks": ""
           },
           "baxis": {
            "gridcolor": "#DFE8F3",
            "linecolor": "#A2B1C6",
            "ticks": ""
           },
           "bgcolor": "white",
           "caxis": {
            "gridcolor": "#DFE8F3",
            "linecolor": "#A2B1C6",
            "ticks": ""
           }
          },
          "title": {
           "x": 0.05
          },
          "xaxis": {
           "automargin": true,
           "gridcolor": "#EBF0F8",
           "linecolor": "#EBF0F8",
           "ticks": "",
           "title": {
            "standoff": 15
           },
           "zerolinecolor": "#EBF0F8",
           "zerolinewidth": 2
          },
          "yaxis": {
           "automargin": true,
           "gridcolor": "#EBF0F8",
           "linecolor": "#EBF0F8",
           "ticks": "",
           "title": {
            "standoff": 15
           },
           "zerolinecolor": "#EBF0F8",
           "zerolinewidth": 2
          }
         }
        },
        "title": {
         "text": "Revenue and Expenses Over Time",
         "x": 0.5,
         "xanchor": "center"
        },
        "width": 800,
        "xaxis": {
         "tickmode": "array",
         "ticktext": [
          "2022",
          "2023",
          "2024"
         ],
         "tickvals": [
          0,
          1,
          2
         ],
         "title": {
          "text": ""
         }
        },
        "yaxis": {
         "tickformat": ",.0f",
         "title": {
          "text": ""
         }
        }
       }
      }
     },
     "metadata": {},
     "output_type": "display_data"
    }
   ],
   "source": [
    "# Create a chart comparing multiple line items\n",
    "fig = model.charts.line_items(\n",
    "    ['revenue', 'expenses'],\n",
    "    title=\"Revenue and Expenses Over Time\"\n",
    ")\n",
    "\n",
    "# Display the chart with fallback for documentation\n",
    "try:\n",
    "    # Try interactive display first\n",
    "    fig.show()\n",
    "except Exception as e:\n",
    "    print(f\"Interactive display not available: {e}\")\n",
    "    \n",
    "# For documentation, also create a static version\n",
    "try:\n",
    "    # Create assets/images directory if it doesn't exist\n",
    "    import os\n",
    "    os.makedirs(\"../assets/images\", exist_ok=True)\n",
    "    \n",
    "    # Save static version\n",
    "    fig.write_image(\"../assets/images/revenue_expenses_chart.png\", \n",
    "                    width=800, height=600, scale=2)\n",
    "    \n",
    "    # Display static image as fallback\n",
    "    from IPython.display import Image, display\n",
    "    display(Image(\"../assets/images/revenue_expenses_chart.png\"))\n",
    "    print(\"✓ Chart saved as static image for documentation\")\n",
    "    \n",
    "except Exception as e:\n",
    "    print(f\"Could not create static image: {e}\")\n",
    "    print(\"Install kaleido for image export: pip install kaleido\")"
   ]
  },
  {
   "cell_type": "markdown",
   "id": "bc926896",
   "metadata": {},
   "source": [
    "## Exporting Data\n",
    "\n",
    "Tables can be converted to pandas DataFrames or exported to Excel:"
   ]
  },
  {
   "cell_type": "code",
   "execution_count": 10,
   "id": "258a2d30",
   "metadata": {},
   "outputs": [
    {
     "name": "stdout",
     "output_type": "stream",
     "text": [
      "Table as DataFrame:\n",
      "         Year      2022      2023      2024\n",
      "0     Revenue  121000.0  133100.0  146410.0\n",
      "1    Expenses   90000.0   95000.0  100000.0\n",
      "2  Net Income   31000.0   38100.0   46410.0\n",
      "\n",
      "Table can be exported to Excel using: table.to_excel('filename.xlsx')\n"
     ]
    }
   ],
   "source": [
    "# Convert table to DataFrame\n",
    "df = custom_table.to_dataframe()\n",
    "print(\"Table as DataFrame:\")\n",
    "print(df)\n",
    "\n",
    "# Export to Excel (uncomment to save)\n",
    "# custom_table.to_excel(\"financial_report.xlsx\")\n",
    "print(\"\\nTable can be exported to Excel using: table.to_excel('filename.xlsx')\")"
   ]
  },
  {
   "cell_type": "markdown",
   "id": "5967a1e9",
   "metadata": {},
   "source": [
    "## Summary\n",
    "\n",
    "This notebook showed you how to:\n",
    "\n",
    "1. **Create a financial model** with line items, categories, and formulas\n",
    "2. **Generate formatted tables** using built-in methods and custom templates\n",
    "3. **Create interactive charts** to visualize your data\n",
    "4. **Export data** to DataFrames and Excel files\n",
    "\n",
    "The Table objects can be viewed directly in notebooks, converted to pandas DataFrames, or exported to Excel for further analysis and reporting."
   ]
  }
 ],
 "metadata": {
  "kernelspec": {
   "display_name": ".venv",
   "language": "python",
   "name": "python3"
  },
  "language_info": {
   "codemirror_mode": {
    "name": "ipython",
    "version": 3
   },
   "file_extension": ".py",
   "mimetype": "text/x-python",
   "name": "python",
   "nbconvert_exporter": "python",
   "pygments_lexer": "ipython3",
   "version": "3.12.6"
  }
 },
 "nbformat": 4,
 "nbformat_minor": 5
}
